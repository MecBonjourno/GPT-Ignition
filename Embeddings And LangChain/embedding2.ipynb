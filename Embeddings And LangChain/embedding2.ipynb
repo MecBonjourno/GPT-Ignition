{
 "cells": [
  {
   "cell_type": "code",
   "execution_count": 4,
   "metadata": {},
   "outputs": [
    {
     "name": "stdout",
     "output_type": "stream",
     "text": [
      "Collecting pypdf\n",
      "  Downloading pypdf-3.9.0-py3-none-any.whl (249 kB)\n",
      "\u001b[2K     \u001b[90m━━━━━━━━━━━━━━━━━━━━━━━━━━━━━━━━━━━━━━━\u001b[0m \u001b[32m249.5/249.5 kB\u001b[0m \u001b[31m3.4 MB/s\u001b[0m eta \u001b[36m0:00:00\u001b[0ma \u001b[36m0:00:01\u001b[0m\n",
      "\u001b[?25hInstalling collected packages: pypdf\n",
      "Successfully installed pypdf-3.9.0\n"
     ]
    }
   ],
   "source": [
    "!pip install pypdf"
   ]
  },
  {
   "cell_type": "code",
   "execution_count": 5,
   "metadata": {},
   "outputs": [],
   "source": [
    "from langchain.document_loaders import UnstructuredPDFLoader, OnlinePDFLoader, PyPDFLoader\n",
    "\n",
    "from langchain.text_splitter import RecursiveCharacterTextSplitter\n",
    "import os"
   ]
  },
  {
   "cell_type": "code",
   "execution_count": 1,
   "metadata": {},
   "outputs": [
    {
     "data": {
      "text/plain": [
       "True"
      ]
     },
     "execution_count": 1,
     "metadata": {},
     "output_type": "execute_result"
    }
   ],
   "source": [
    "from dotenv import load_dotenv,find_dotenv\n",
    "\n",
    "load_dotenv(find_dotenv())"
   ]
  },
  {
   "cell_type": "code",
   "execution_count": 6,
   "metadata": {},
   "outputs": [],
   "source": [
    "loader = PyPDFLoader(\"TheWayOfKings.pdf\")\n",
    "\n",
    "## Other options for loaders \n",
    "# loader = UnstructuredPDFLoader(\"../data/field-guide-to-data-science.pdf\")\n",
    "# loader = OnlinePDFLoader(\"https://wolfpaulus.com/wp-content/uploads/2017/05/field-guide-to-data-science.pdf\")"
   ]
  },
  {
   "cell_type": "code",
   "execution_count": 7,
   "metadata": {},
   "outputs": [],
   "source": [
    "data = loader.load()"
   ]
  },
  {
   "cell_type": "code",
   "execution_count": 10,
   "metadata": {},
   "outputs": [
    {
     "name": "stdout",
     "output_type": "stream",
     "text": [
      "You have 1687 document(s) in your data\n",
      "There are 0 characters in your document\n"
     ]
    }
   ],
   "source": [
    "# Note: If you're using PyPDFLoader then it will split by page for you already\n",
    "print (f'You have {len(data)} document(s) in your data')\n",
    "print (f'There are {len(data[0].page_content)} characters in your document')"
   ]
  },
  {
   "cell_type": "code",
   "execution_count": 11,
   "metadata": {},
   "outputs": [],
   "source": [
    "# Note: If you're using PyPDFLoader then we'll be splitting for the 2nd time.\n",
    "# This is optional, test out on your own data.\n",
    "\n",
    "text_splitter = RecursiveCharacterTextSplitter(chunk_size=1000, chunk_overlap=0)\n",
    "texts = text_splitter.split_documents(data)"
   ]
  },
  {
   "cell_type": "code",
   "execution_count": 12,
   "metadata": {},
   "outputs": [
    {
     "name": "stdout",
     "output_type": "stream",
     "text": [
      "Now you have 3128 documents\n"
     ]
    }
   ],
   "source": [
    "print (f'Now you have {len(texts)} documents')"
   ]
  },
  {
   "cell_type": "code",
   "execution_count": 13,
   "metadata": {},
   "outputs": [
    {
     "name": "stderr",
     "output_type": "stream",
     "text": [
      "/Users/guilhermezago/Documents/GPT-Vectorized-Analysis/.venv/lib/python3.11/site-packages/pinecone/index.py:4: TqdmWarning: IProgress not found. Please update jupyter and ipywidgets. See https://ipywidgets.readthedocs.io/en/stable/user_install.html\n",
      "  from tqdm.autonotebook import tqdm\n"
     ]
    }
   ],
   "source": [
    "from langchain.vectorstores import Chroma, Pinecone\n",
    "from langchain.embeddings.openai import OpenAIEmbeddings\n",
    "import pinecone"
   ]
  },
  {
   "cell_type": "code",
   "execution_count": 18,
   "metadata": {},
   "outputs": [],
   "source": [
    "# Check to see if there is an environment variable with you API keys, if not, use what you put below\n",
    "OPENAI_API_KEY = os.getenv('OPENAI_API_KEY')\n",
    "\n",
    "PINECONE_API_KEY = os.getenv('PINECONE_API_KEY_CONTATOGZ')\n",
    "PINECONE_API_ENV = os.getenv('PINECONE_ENV_CONTATOGZ')"
   ]
  },
  {
   "cell_type": "code",
   "execution_count": 19,
   "metadata": {},
   "outputs": [],
   "source": [
    "from langchain.embeddings import HuggingFaceEmbeddings\n",
    "embeddings = HuggingFaceEmbeddings()"
   ]
  },
  {
   "cell_type": "code",
   "execution_count": 20,
   "metadata": {},
   "outputs": [],
   "source": [
    "# initialize pinecone\n",
    "pinecone.init(\n",
    "    api_key=PINECONE_API_KEY,  # find at app.pinecone.io\n",
    "    environment=PINECONE_API_ENV  # next to api key in console\n",
    ")\n",
    "index_name = \"the-way-of-kings\""
   ]
  },
  {
   "cell_type": "code",
   "execution_count": 21,
   "metadata": {},
   "outputs": [],
   "source": [
    "pinecone.create_index(name=index_name, metric='euclidean', dimension=768)\n",
    "index = pinecone.Index(index_name)"
   ]
  },
  {
   "cell_type": "code",
   "execution_count": 22,
   "metadata": {},
   "outputs": [],
   "source": [
    "docsearch = Pinecone.from_texts([t.page_content for t in texts], embeddings, index_name=index_name)"
   ]
  },
  {
   "cell_type": "code",
   "execution_count": 25,
   "metadata": {},
   "outputs": [],
   "source": [
    "query = \"What is the way of kings?\"\n",
    "docs = docsearch.similarity_search(query)"
   ]
  },
  {
   "cell_type": "code",
   "execution_count": 28,
   "metadata": {},
   "outputs": [
    {
     "name": "stdout",
     "output_type": "stream",
     "text": [
      "[Document(page_content='THE WAY OF KINGS', metadata={}), Document(page_content='THE WAY OF KINGS', metadata={}), Document(page_content='This is a work of fiction. All of the characters,\\norganizations, and events portrayed in this novel are\\neither products of the author’s imagination or are\\nused fictitiously.\\nTHE WAY OF KINGS\\nCopyright © 2010 by Dragonsteel Entertainment,\\nLLC\\nAll rights reserved.\\nInterior illustrations by Isaac Stewart, Ben\\nMcSweeney, and Greg Call Edited by Moshe Feder\\nA Tor Book\\nPublished by Tom Doherty Associates, LLC\\n175 Fifth Avenue\\nNew York, NY 10010\\nwww.tor-forge.com\\nTor\\n®\\n is a registered trademark of Tom Doherty\\nAssociates, LLC.', metadata={}), Document(page_content='THE WAY OF KINGS\\nBook One of\\nTHE STORMLIGHT ARCHIVE\\nA TOM DOHERTY ASSOCIATES BOOK • NEW YORK', metadata={})]\n"
     ]
    }
   ],
   "source": [
    "# Here's an example of the first document that was returned\n",
    "print(docs)"
   ]
  },
  {
   "cell_type": "code",
   "execution_count": 29,
   "metadata": {},
   "outputs": [],
   "source": [
    "from langchain.llms import OpenAI\n",
    "from langchain.chains.question_answering import load_qa_chain"
   ]
  },
  {
   "cell_type": "code",
   "execution_count": 33,
   "metadata": {},
   "outputs": [],
   "source": [
    "\n",
    "llm = OpenAI(temperature=0.5, openai_api_key=OPENAI_API_KEY)\n",
    "chain = load_qa_chain(llm, chain_type=\"stuff\")"
   ]
  },
  {
   "cell_type": "code",
   "execution_count": 42,
   "metadata": {},
   "outputs": [],
   "source": [
    "query = \"What is a Gemheart and how it can it be obtained?\"\n",
    "docs = docsearch.similarity_search(query, k=20)"
   ]
  },
  {
   "cell_type": "code",
   "execution_count": 44,
   "metadata": {},
   "outputs": [
    {
     "data": {
      "text/plain": [
       "[Document(page_content='Most gemhearts were harvested quite differently\\nthan the one had been today. Sometime during the\\nstrange life cycle of the chasmfiends, they sought the\\nwestern side of the Plains, where the plateaus were\\nwider. They climbed up onto the tops and made a\\nrocky chrysalis, waiting for the coming of a\\nhighstorm.\\nDuring that time, they were vulnerable. You just\\nhad to get to the plateau where it rested, break into\\nits chrysalis with some mallets or a Shardblade, then\\ncut out the gemheart. Easy work for a fortune. And\\nthe beasts came frequently, often several times a\\nweek, so long as the weather didn’t get too cold.\\nDalinar looked up at the hulking carcass. Tiny,\\nnear-invisible spren were floating out of the beast’s\\nbody, vanishing into the air. They looked like the\\ntongues of smoke that might come off a candle after\\nbeing snuff ed. Nobody knew what kind of spren they\\nwere; you only saw them around the freshly killed\\nbodies of greatshells.\\nHe shook his head. The gemhearts had', metadata={}),\n",
       " Document(page_content='“Perhaps. And what will happen to the value of\\ngemstones if we continue to capture gemhearts at\\nthe rate we have?”\\n“I…” That was a good question.\\n“What happens, I wonder, when the scarcest,\\nyet most desirable, substance in the land suddenly\\nbecomes commonplace? There’s much going on\\nhere, son. Much we haven’t considered. The\\ngemhearts, the Parshendi, the death of Gavilar. You', metadata={}),\n",
       " Document(page_content='gestured sharply toward what passed for the beast’s\\nneck. Elhokar nodded, then summoned his Blade\\nand rammed it deeply into the monster’s flesh. The\\ncreature’s uniform green eyes blackened and\\nshriveled, smoke twisting into the air.\\nAdolin walked up to join his father, watching as\\nElhokar plunged his Blade into the chasmfiend’s\\nchest. Now that the beast was dead, the Blade could\\ncut its flesh. Violet ichor spurted out, and Elhokar\\ndropped his blade and reached into the wound,\\nquesting with Plate-enhanced arms, grabbing\\nsomething.\\nHe ripped free the beast’s gemheart—the\\nenormous gemstone that grew within all\\nchasmfiends. It was lumpy and uncut, but it was a\\npure emerald and as big as a man’s head. It was the\\nlargest gemheart Adolin had ever seen, and even\\nthe small ones were worth a fortune.\\nElhokar held aloft the grisly prize, golden\\ngloryspren appearing around him, and the soldiers\\nyelled in triumph.', metadata={}),\n",
       " Document(page_content='their fabrials, and she hadn’t even known that her\\nfather had one until they’d found it on him. Of course,\\nhis no longer worked. That was one of the main\\nreasons she was here.\\nThe gemstones set into Jasnah’s Soulcaster\\nwere enormous, some of the largest that Shallan had\\never seen, worth many spheres each. One was\\nsmokestone, a pure glassy black gemstone. The\\nsecond was a diamond. The third was a ruby. All\\nthree were cut—a cut stone could hold more\\nStormlight—into glistening, many-faceted oval\\nshapes.\\nJasnah closed her eyes, pressing her hand\\nagainst the fallen boulder. She raised her head,\\ninhaling slowly. The stones on the back of her hand\\nbegan to glow more fiercely, the smokestone in\\nparticular growing so bright it was difficult to look at.\\nShallan held her breath. The only thing she\\ndared do was blink, committing the scene to\\nmemory. For a long, extended moment, nothing\\nhappened.\\nAnd then, briefly, Shallan heard a sound. A low\\nthrumming, like a distant group of voices, humming', metadata={}),\n",
       " Document(page_content='heartbeat’?”\\n“I’m not sure,” Teft admitted.\\n“We can’t trust the stories or legends,” Kaladin\\nsaid. He glanced at Syl, who had landed beside one\\nof the spheres, staring at it with childlike interest.\\n“Who knows what is true and what has been\\nfabricated? The only thing we know for certain is\\nthis.” He plucked up one of the spheres and held it\\nup in two fingers. “The Radiant sitting in this room is\\nvery, very tired of the color brown.”\\nTeft grunted. “You’re not a Radiant, lad.”\\n“Weren’t we just talking about—”\\n“Oh, you can infuse,” Teft said. “You can drink in\\nthe Stormlight and command it. But being a Radiant\\nwas more than that. It was their way of life, the things\\nthey did. The Immortal Words.”\\n“The what?”\\nTeft rolled his sphere between his fingers again,\\nholding it up and staring into its depths. “Life before\\ndeath. Strength before weakness. Journey before\\ndestination. That was their motto, and was the First\\nIdeal of the Immortal Words. There were four others.”', metadata={}),\n",
       " Document(page_content='his attendants. Dalinar could sense the disapproval\\nin his ex-friend’s posture. Dalinar and Adolin risked\\nthemselves, taking a dangerous leap across the\\nchasm. An assault of the type Sadeas had\\npioneered would cost more lives. But how many lives\\nwould Dalinar’s army lose if one of its Shardbearers\\nwas pushed into the chasm?\\nGallant charged across the bridge alongside a\\nline of soldiers, who cheered for the Ryshadium. He\\nslowed near Dalinar, who grabbed the reins. Right\\nnow, he was needed. His men were fighting and\\ndying, and this was not a time for regret or second-\\nguessing.\\nA Plate-enhanced jump put him in the saddle.\\nThen, Shardblade raised high, he charged into battle\\nto kill for his men. That was not what the Radiants\\nhad fought for. But at least it was something.\\nThey won the battle.\\nDalinar stepped back, feeling fatigued as\\nAdolin did the honors of harvesting the gemheart.\\nThe chrysalis itself sat like an enormous, oblong\\nrockbud, fifteen feet tall and attached to the uneven', metadata={}),\n",
       " Document(page_content='crossed chasms with jumping poles, moving very\\nlightly from plateau to plateau without the need of\\nbridges. Once a chasmfiend was spotted the scouts\\nwould sound warning, and it became a race—Alethi\\nagainst Parshendi. Seize the plateau and hold it long\\nenough to get out the gemheart, attack the enemy if\\nthey got there first.\\nEach highprince wanted those gemhearts.\\nPaying and feeding thousands of troops was not\\ncheap, but a single gemheart could cover a\\nhighprince’s expenses for months. Beyond that, the\\nlarger a gemstone was when used by a Soulcaster,\\nthe less likely it was to shatter. Enormous gemheart\\nstones offered near-limitless potential. And so, the\\nhighprinces raced. The first one to a chrysalis got to\\nfight the Parshendi for the gemheart.\\nThey could have taken turns, but that was not the\\nAlethi way. Competition was doctrine to them.\\nVorinism taught that the finest warriors would have\\nthe holy privilege of joining the Heralds after death,', metadata={}),\n",
       " Document(page_content='—was lit by topazes. The table still contained a half-\\nfull cup of orange wine from Jasnah’s late research\\nthe night before, along with a few crumbs of bread\\non a plate.\\nShallan hurried to her own chamber, then shut\\nthe door and took the Soulcaster out of her\\nsafepouch. The warm glow of the gemstones bathed\\nher face in white and red light. They were large\\nenough—and therefore bright enough—that it was\\nhard to look at them directly. Each would be worth', metadata={}),\n",
       " Document(page_content='sphere up toward the light. “Ah. No, that’s a real\\ngemstone. You should get your spheres infused,\\nbridgeman. Not everyone is as trusting as I am.”\\n“They were glowing this morning,” Kaladin\\nprotested. “Gaz must have paid me with run-down\\nspheres.”\\nThe apothecary removed his loupe and\\nreplaced the spectacles. He selected three marks,\\nincluding the glowing one.\\n“Could I have that one?” Kaladin asked.', metadata={}),\n",
       " Document(page_content='waves of light coming from the Soulcaster’s gems.\\nFor a few extended moments, Shallan was back\\nin that hallway again, watching something that should\\nnot be: a heretic wielding one of the most sacred\\npowers in all the world. The power of change itself,\\nthe power by which the Almighty had created\\nRoshar. He had another name, allowed to pass only\\nthe lips of ardents. \\nElithanathile\\n. He Who\\nTransforms.\\nShallan could smell the musty hallway. She\\ncould hear the child whimpering. She could feel her\\nown heart beating in anticipation. The boulder would\\nsoon change. Sucking away the Stormlight in\\nJasnah’s gemstone, it would give up its essence,\\nbecoming something new. Shallan’s breath caught in\\nher throat.\\nAnd then the memory faded, returning her to the\\nquiet, dim alcove. The page now held a perfect\\nrendition of the scene, worked in blacks and greys.\\nThe princess’s proud figure regarded the fallen\\nstone, demanding that it give way before her will. It\\nwas', metadata={}),\n",
       " Document(page_content='Dalinar entered. She wore the fabrial he had seen\\nher displaying at the feast a few weeks back; the\\nmultilegged contraption was attached to her\\nshoulder, gripping the cloth of her violet dress.\\n“I don’t know, Father,” Adolin said, closing the\\ndoor. Apparently he was still thinking about Sadeas.\\n“I don’t care if he’s listening to \\nThe Way of Kings\\n.\\nHe’s just doing it to make you look less closely at the\\nplateau assaults so that his clerks can arrange his\\ncut of the gemhearts more favorably. He’s\\nmanipulating you.”\\nDalinar shrugged. “Gemhearts are secondary,', metadata={}),\n",
       " Document(page_content='Jasnah nodded, still relaxed in the water.\\n“The text doesn’t mention them,” Shallan said.\\n“My father didn’t speak of them,” Jasnah said.\\n“But from things he said…well, I now suspect that\\nthey motivated the treaty.”\\n“Can you be sure he knew, though? Maybe he\\njust wanted the gemhearts.”\\n“Perhaps,” Jasnah said. “The Parshendi\\nseemed amused at our interest in the gemstones\\nwoven into their beards.” She smiled. “You should\\nhave seen our shock when we discovered where\\nthey’d gotten them. When the lanceryn died off\\nduring the scouring of Aimia, we thought we’d seen\\nthe last gemhearts of large size. And yet here was\\nanother great-shelled beast with them, living in a\\nland not too distant from Kholinar itself.\\n“Anyway, the Parshendi were willing to share\\nthem with us, so long as they could still hunt them\\ntoo. To them, if you took the trouble to hunt the\\nchasmfiends, their gemhearts were yours. I doubt a\\ntreaty would have been needed for that. And yet, just', metadata={}),\n",
       " Document(page_content='emeralds?”\\n“They’re just old scraps that I bleached and\\nboiled. Two clearchips an arm length.”\\n“I’ll give a mark for the box.”\\n“Very well.” Kaladin reached into his pocket to\\nget the spheres as the old apothecary continued,\\n“You surgeons, all the same. Never give a blink to\\nconsider where your supplies come from. You just\\nuse them like there will be no end.”\\n“You can’t put a price on a person’s life,”\\nKaladin said. One of his father’s sayings. It was the\\nmain reason that Lirin had never charged for his\\nservices.\\nKaladin brought out his four marks. He\\nhesitated when he saw them, however. Only one was\\nstill glowing with its soft crystal light. The other three\\nwere dull, the bits of diamond barely visible at the\\ncenter of the drops of glass.\\n“Here now,” the apothecary said, squinting. “You\\ntrying to pass dun spheres off on me?” He snatched\\none before Kaladin could complain, then fished\\naround under his counter. He brought up a jeweler’s\\nloupe, removing his spectacles and holding the', metadata={}),\n",
       " Document(page_content='enclosure with thick sides and top to offer protection\\nagainst highstorms—even the weaker ones in the\\nWest could be dangerous, at least until one got\\nthrough the passes and into Shinovar.\\nShe hurried back to the tripod with the fabrial’s\\nbox. She slid off the wooden top and removed the\\nlarge heliodor inside. The pale yellow gemstone, at\\nleast two inches in diameter, was fixed inside a\\nmetal framework. It glowed gently, not as bright as\\none might expect of such a sizable gem.\\nShe set it in the tripod, then spun a few of the\\ndials underneath, setting the fabrial to the people in', metadata={}),\n",
       " Document(page_content='precious treasures any man could own—tossed to\\nthe ground and abandoned like refuse.\\nThe others began to follow suit. Hundreds of\\nmen and women, driving Shardblades into the stone\\nand then removing their Plate. The sound of metal\\nhitting stone came like rain. Then like thunder.\\nDalinar found himself running forward. The door\\nbehind him opened and some curious soldiers left\\nthe keep. Dalinar reached the Shardblades. They\\nsprouted from the rock like glittering silver trees, a\\nforest of weapons. They glowed softly in a way his\\nown Shardblade never had, but as he dashed\\namong them, their light started to fade.\\nA terrible feeling struck him. A sense of\\nimmense tragedy, of pain and betrayal. Stopping\\nwhere he stood, he gasped, hand to his chest. What\\nwas happening? What \\nwas\\n that dreadful feeling, that\\nscreaming he swore he could almost hear?\\nThe Radiants. They walked away from their\\ndiscarded weapons. They all seemed individuals\\nnow, each walking alone despite the crowd. Dalinar', metadata={}),\n",
       " Document(page_content='emerald broam, the highest denomination of sphere.\\nWorth hundreds of lesser spheres. To bridgemen,\\nthis was a fortune. A strangely distant one, for\\nspending it was impossible. Kaladin thought he', metadata={}),\n",
       " Document(page_content='easy it was to ignore a blackened heart if you\\ndressed it in a pressed uniform and a reputation for\\nhonesty.\\nSeveral hours later, the sweaty and exhausted\\ngroup of bridgemen tramped up the incline to the\\nlumberyard. They dumped their bridge in its resting\\nplace. It was getting late; Kaladin would have to\\npurchase food immediately if they were going to\\nhave supplies for the evening stew. He wiped his\\nhands on his towel as the members of Bridge Four\\nlined up.\\n“You’re dismissed for evening activities,” he\\nsaid. “We have chasm duty early tomorrow. Morning\\nbridge practice will have to be moved to late\\nafternoon.”\\nThe bridgemen nodded, then Moash raised a\\nhand. As one, the bridgemen raised their arms and\\ncrossed them, wrists together, hands in fists. It had\\nthe look of a practiced effort. After that, they trotted\\naway.\\nKaladin raised an eyebrow, tucking his towel\\ninto his belt. Teft hung back, smiling.\\n“What was that?” Kaladin asked.\\n“The men wanted a salute,” Teft said. “We can’t', metadata={}),\n",
       " Document(page_content='used up his Stormlight too quickly, straining his\\nbody. He stumbled down the side of the building,\\napproaching the wreckage, barely able to remain\\nstanding.\\nThe king was still moving. Shardplate would\\nprotect a man from such a fall, but a large length of\\nbloodied wood stuck up through Gavilar’s side,\\npiercing him where Szeth had broken the Plate\\nearlier. Szeth knelt down, inspecting the man’s pain-\\nwracked face. Strong features, square chin, black\\nbeard flecked with white, striking pale green eyes.\\nGavilar Kholin.\\n“I…expected you…to come,” the king said\\nbetween gasps.\\nSzeth reached underneath the front of the man’s\\nbreastplate, tapping the straps there. They\\nunfastened, and he pulled the front of the breastplate\\nfree, exposing the gemstones on its interior. Two\\nhad been cracked and burned out. Three still\\nglowed. Numb, Szeth breathed in sharply, absorbing\\nthe Light.\\nThe storm began to rage again. More Light rose\\nfrom the side of his face, repairing his damaged skin', metadata={}),\n",
       " Document(page_content='infused sapphires. Once they reached his sitting\\nchamber, he was again struck by just how lavish it\\nhad gotten over the months.\\nThree of his clerks waited with their attending\\ngirls. All six stood up when he entered. Adolin was\\nalso there.\\nDalinar frowned at the youth. “Shouldn’t you be\\nseeing to the inspections?”\\nAdolin started. “Father, I finished those hours\\nago.”\\n“You did?” \\nStormfather! How long did I spend\\npounding on those stones?\\n“Father,” Adolin said, stepping up to him. “Can\\nwe speak privately for a moment?” As usual,\\nAdolin’s black-peppered blond hair was an unruly\\nmop. He’d changed from his Plate and bathed, and\\nnow he wore a fashionable—though battle-worthy—\\nuniform with a long blue coat, buttoned at the sides,\\nand straight, stiff brown trousers beneath.\\n“I’m not ready to discuss that as yet, son,”\\nDalinar said softly. “I need a little more time.”\\nAdolin studied him, eyes concerned. \\nHe will\\nmake a fine highprince,\\n Dalinar thought. \\nHe’s been', metadata={}),\n",
       " Document(page_content='pouch. “How much should I actually give him?”\\n“Two clearchips should be more than enough.\\nI’d have offered one. The thief wanted to ask for\\nfive\\n.”\\nBefore this trip, she’d never used money; she’d\\njust admired the spheres for their beauty. Each one\\nwas composed of a glass bead a little larger than a\\nperson’s thumbnail with a much smaller gemstone\\nset at the center. The gemstones could absorb\\nStormlight, and that made the spheres glow. When\\nshe opened the money pouch, shards of ruby,\\nemerald, diamond, and sapphire shone out on her\\nface. She fished out three diamond chips, the\\nsmallest denomination. Emeralds were the most\\nvaluable, for they could be used by Soulcasters to\\ncreate food.\\nThe glass part of most spheres was the same\\nsize; the size of the gemstone at the center\\ndetermined the denomination. The three chips, for\\ninstance, each had only a tiny splinter of diamond\\ninside. Even that was enough to glow with\\nStormlight, far fainter than a lamp, but still visible. A', metadata={})]"
      ]
     },
     "execution_count": 44,
     "metadata": {},
     "output_type": "execute_result"
    }
   ],
   "source": [
    "docs"
   ]
  },
  {
   "cell_type": "code",
   "execution_count": null,
   "metadata": {},
   "outputs": [],
   "source": [
    "chain.run(input_documents=docs, question=query)"
   ]
  },
  {
   "cell_type": "code",
   "execution_count": 40,
   "metadata": {},
   "outputs": [],
   "source": [
    "query = \"Tell me all the information you can about Kaladin\"\n",
    "docs = docsearch.similarity_search(query)"
   ]
  },
  {
   "cell_type": "code",
   "execution_count": 41,
   "metadata": {},
   "outputs": [
    {
     "data": {
      "text/plain": [
       "\" Kaladin is a man with a bushy black beard and a glyphward tattoo on each hand. He was once a soldier and was called Stormblessed, but he has since come to believe he has bad luck. He is familiar with Brightlord Dalinar, a highprince and the most honorable Shardbearer in the king's army. He is also learning the ways of the lighteyes and eventually plans to return to his hometown to prove to Roshone, Rillir, and Laral that they were wrong to dismiss him.\""
      ]
     },
     "execution_count": 41,
     "metadata": {},
     "output_type": "execute_result"
    }
   ],
   "source": [
    "chain.run(input_documents=docs, question=query)"
   ]
  },
  {
   "attachments": {},
   "cell_type": "markdown",
   "metadata": {},
   "source": [
    "## One thing I've noticed is that, yes the prompt keeps getting bigger. And that is concernable, like, financially and performancely speaking. With this is mind to, this may indicate that breaking the content in smaller chunks can be even better and more performant than the current approach. I'm not sure if this is the case, but it's worth a try. I'll try to do this in the next iteration."
   ]
  }
 ],
 "metadata": {
  "kernelspec": {
   "display_name": ".venv",
   "language": "python",
   "name": "python3"
  },
  "language_info": {
   "codemirror_mode": {
    "name": "ipython",
    "version": 3
   },
   "file_extension": ".py",
   "mimetype": "text/x-python",
   "name": "python",
   "nbconvert_exporter": "python",
   "pygments_lexer": "ipython3",
   "version": "3.11.1"
  },
  "orig_nbformat": 4
 },
 "nbformat": 4,
 "nbformat_minor": 2
}
