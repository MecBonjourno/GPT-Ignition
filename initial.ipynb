{
  "cells": [
    {
      "attachments": {},
      "cell_type": "markdown",
      "metadata": {},
      "source": [
        "# Testing GPT + Analysis"
      ]
    },
    {
      "attachments": {},
      "cell_type": "markdown",
      "metadata": {},
      "source": [
        "### This is just a initial project and study. I'm not a professional in this area, so I'm just trying to learn and share my knowledge. I hope you enjoy it! :)"
      ]
    },
    {
      "attachments": {},
      "cell_type": "markdown",
      "metadata": {},
      "source": [
        "### This is just a initial project and study. I'm not a professional in this area, so I'm just trying to learn and share my knowledge. I hope you enjoy it! :)"
      ]
    },
    {
      "cell_type": "code",
      "execution_count": 2,
      "metadata": {
        "id": "GVUQKzjI9DD6"
      },
      "outputs": [
        {
          "data": {
            "text/plain": [
              "True"
            ]
          },
          "execution_count": 2,
          "metadata": {},
          "output_type": "execute_result"
        }
      ],
      "source": [
        "import os\n",
        "import json\n",
        "import gzip\n",
        "import pandas as pd\n",
        "from urllib.request import urlopen\n",
        "\n",
        "from dotenv import load_dotenv,find_dotenv\n",
        "\n",
        "load_dotenv(find_dotenv())"
      ]
    },
    {
      "attachments": {},
      "cell_type": "markdown",
      "metadata": {},
      "source": [
        "This cell imports the libraries and the .env keys, which are needed for this project. The keys that we are using are from OpenAI and Pinecone."
      ]
    },
    {
      "attachments": {},
      "cell_type": "markdown",
      "metadata": {},
      "source": [
        "The Data that we will use comes from Amazon, so I will upload it to GitHub. But you can download it from here: https://cseweb.ucsd.edu/~jmcauley/datasets/amazon_v2/ (Amazon Reviews Dataset) if you to get other samples. The ones that we are using here are the from the Amazon Fashion category."
      ]
    },
    {
      "cell_type": "code",
      "execution_count": 26,
      "metadata": {
        "id": "xfMx26bI9UYC"
      },
      "outputs": [],
      "source": [
        "data = []\n",
        "with gzip.open('AMAZON_FASHION.json.gz') as f:\n",
        "    for l in f:\n",
        "        data.append(json.loads(l.strip()))\n",
        "        \n",
        "metadata = []\n",
        "with gzip.open('meta_AMAZON_FASHION.json.gz') as f:\n",
        "    for l in f:\n",
        "        metadata.append(json.loads(l.strip()))"
      ]
    },
    {
      "attachments": {},
      "cell_type": "markdown",
      "metadata": {},
      "source": [
        "Here is the explanation for the code above:\n",
        "\n",
        "1. The first part of code is to load the Amazon Fashion dataset into a dictionary called data. \n",
        "2. The second block of code is to load the metadata for the Amazon Fashion dataset into a dictionary called metadata.\n",
        "\n",
        "Both will be loaded in dataframes."
      ]
    },
    {
      "cell_type": "code",
      "execution_count": 27,
      "metadata": {
        "id": "buRtJKFV9c-D"
      },
      "outputs": [],
      "source": [
        "df = pd.DataFrame.from_dict(data)\n",
        "df = df[df['reviewText'].notna()]\n",
        "\n",
        "df_meta=pd.DataFrame.from_dict(metadata)"
      ]
    },
    {
      "attachments": {},
      "cell_type": "markdown",
      "metadata": {},
      "source": [
        "Now, we are going to truncate the reviews so that we don't process too large or unuseful data. To do this, we will limit to 400 characters on the reviewText column."
      ]
    },
    {
      "cell_type": "code",
      "execution_count": 28,
      "metadata": {
        "id": "MWsFKkQj9g5f"
      },
      "outputs": [],
      "source": [
        "max_text_length=400\n",
        "def truncate_review(text):\n",
        "    return text[:max_text_length]\n",
        "\n",
        "df['truncated']=df.apply(lambda row: truncate_review(row['reviewText']),axis=1)"
      ]
    },
    {
      "cell_type": "code",
      "execution_count": 29,
      "metadata": {
        "id": "kx2Mumm99kRS"
      },
      "outputs": [
        {
          "data": {
            "text/html": [
              "<div>\n",
              "<style scoped>\n",
              "    .dataframe tbody tr th:only-of-type {\n",
              "        vertical-align: middle;\n",
              "    }\n",
              "\n",
              "    .dataframe tbody tr th {\n",
              "        vertical-align: top;\n",
              "    }\n",
              "\n",
              "    .dataframe thead th {\n",
              "        text-align: right;\n",
              "    }\n",
              "</style>\n",
              "<table border=\"1\" class=\"dataframe\">\n",
              "  <thead>\n",
              "    <tr style=\"text-align: right;\">\n",
              "      <th></th>\n",
              "      <th>overall</th>\n",
              "      <th>verified</th>\n",
              "      <th>reviewTime</th>\n",
              "      <th>reviewerID</th>\n",
              "      <th>reviewerName</th>\n",
              "      <th>reviewText</th>\n",
              "      <th>summary</th>\n",
              "      <th>unixReviewTime</th>\n",
              "      <th>vote</th>\n",
              "      <th>style</th>\n",
              "      <th>image</th>\n",
              "      <th>truncated</th>\n",
              "    </tr>\n",
              "    <tr>\n",
              "      <th>asin</th>\n",
              "      <th></th>\n",
              "      <th></th>\n",
              "      <th></th>\n",
              "      <th></th>\n",
              "      <th></th>\n",
              "      <th></th>\n",
              "      <th></th>\n",
              "      <th></th>\n",
              "      <th></th>\n",
              "      <th></th>\n",
              "      <th></th>\n",
              "      <th></th>\n",
              "    </tr>\n",
              "  </thead>\n",
              "  <tbody>\n",
              "    <tr>\n",
              "      <th>0764443682</th>\n",
              "      <td>1</td>\n",
              "      <td>1</td>\n",
              "      <td>1</td>\n",
              "      <td>1</td>\n",
              "      <td>1</td>\n",
              "      <td>1</td>\n",
              "      <td>1</td>\n",
              "      <td>1</td>\n",
              "      <td>0</td>\n",
              "      <td>0</td>\n",
              "      <td>0</td>\n",
              "      <td>1</td>\n",
              "    </tr>\n",
              "    <tr>\n",
              "      <th>B019YM0O28</th>\n",
              "      <td>1</td>\n",
              "      <td>1</td>\n",
              "      <td>1</td>\n",
              "      <td>1</td>\n",
              "      <td>1</td>\n",
              "      <td>1</td>\n",
              "      <td>1</td>\n",
              "      <td>1</td>\n",
              "      <td>0</td>\n",
              "      <td>0</td>\n",
              "      <td>0</td>\n",
              "      <td>1</td>\n",
              "    </tr>\n",
              "    <tr>\n",
              "      <th>B019YME2N0</th>\n",
              "      <td>1</td>\n",
              "      <td>1</td>\n",
              "      <td>1</td>\n",
              "      <td>1</td>\n",
              "      <td>1</td>\n",
              "      <td>1</td>\n",
              "      <td>1</td>\n",
              "      <td>1</td>\n",
              "      <td>0</td>\n",
              "      <td>0</td>\n",
              "      <td>0</td>\n",
              "      <td>1</td>\n",
              "    </tr>\n",
              "    <tr>\n",
              "      <th>B019YMNS08</th>\n",
              "      <td>1</td>\n",
              "      <td>1</td>\n",
              "      <td>1</td>\n",
              "      <td>1</td>\n",
              "      <td>1</td>\n",
              "      <td>1</td>\n",
              "      <td>1</td>\n",
              "      <td>1</td>\n",
              "      <td>0</td>\n",
              "      <td>0</td>\n",
              "      <td>0</td>\n",
              "      <td>1</td>\n",
              "    </tr>\n",
              "    <tr>\n",
              "      <th>B00S7N99AY</th>\n",
              "      <td>1</td>\n",
              "      <td>1</td>\n",
              "      <td>1</td>\n",
              "      <td>1</td>\n",
              "      <td>1</td>\n",
              "      <td>1</td>\n",
              "      <td>1</td>\n",
              "      <td>1</td>\n",
              "      <td>0</td>\n",
              "      <td>0</td>\n",
              "      <td>0</td>\n",
              "      <td>1</td>\n",
              "    </tr>\n",
              "    <tr>\n",
              "      <th>...</th>\n",
              "      <td>...</td>\n",
              "      <td>...</td>\n",
              "      <td>...</td>\n",
              "      <td>...</td>\n",
              "      <td>...</td>\n",
              "      <td>...</td>\n",
              "      <td>...</td>\n",
              "      <td>...</td>\n",
              "      <td>...</td>\n",
              "      <td>...</td>\n",
              "      <td>...</td>\n",
              "      <td>...</td>\n",
              "    </tr>\n",
              "    <tr>\n",
              "      <th>B000PHANNM</th>\n",
              "      <td>2566</td>\n",
              "      <td>2566</td>\n",
              "      <td>2566</td>\n",
              "      <td>2566</td>\n",
              "      <td>2566</td>\n",
              "      <td>2566</td>\n",
              "      <td>2563</td>\n",
              "      <td>2566</td>\n",
              "      <td>85</td>\n",
              "      <td>2563</td>\n",
              "      <td>112</td>\n",
              "      <td>2566</td>\n",
              "    </tr>\n",
              "    <tr>\n",
              "      <th>B00RLSCLJM</th>\n",
              "      <td>3633</td>\n",
              "      <td>3633</td>\n",
              "      <td>3633</td>\n",
              "      <td>3633</td>\n",
              "      <td>3633</td>\n",
              "      <td>3633</td>\n",
              "      <td>3632</td>\n",
              "      <td>3633</td>\n",
              "      <td>225</td>\n",
              "      <td>3538</td>\n",
              "      <td>210</td>\n",
              "      <td>3633</td>\n",
              "    </tr>\n",
              "    <tr>\n",
              "      <th>B00I0VHS10</th>\n",
              "      <td>3884</td>\n",
              "      <td>3884</td>\n",
              "      <td>3884</td>\n",
              "      <td>3884</td>\n",
              "      <td>3884</td>\n",
              "      <td>3884</td>\n",
              "      <td>3880</td>\n",
              "      <td>3884</td>\n",
              "      <td>128</td>\n",
              "      <td>3872</td>\n",
              "      <td>107</td>\n",
              "      <td>3884</td>\n",
              "    </tr>\n",
              "    <tr>\n",
              "      <th>B000KPIHQ4</th>\n",
              "      <td>4371</td>\n",
              "      <td>4371</td>\n",
              "      <td>4371</td>\n",
              "      <td>4371</td>\n",
              "      <td>4370</td>\n",
              "      <td>4371</td>\n",
              "      <td>4369</td>\n",
              "      <td>4371</td>\n",
              "      <td>193</td>\n",
              "      <td>3346</td>\n",
              "      <td>38</td>\n",
              "      <td>4371</td>\n",
              "    </tr>\n",
              "    <tr>\n",
              "      <th>B000V0IBDM</th>\n",
              "      <td>4380</td>\n",
              "      <td>4380</td>\n",
              "      <td>4380</td>\n",
              "      <td>4380</td>\n",
              "      <td>4379</td>\n",
              "      <td>4380</td>\n",
              "      <td>4378</td>\n",
              "      <td>4380</td>\n",
              "      <td>0</td>\n",
              "      <td>0</td>\n",
              "      <td>38</td>\n",
              "      <td>4380</td>\n",
              "    </tr>\n",
              "  </tbody>\n",
              "</table>\n",
              "<p>186112 rows × 12 columns</p>\n",
              "</div>"
            ],
            "text/plain": [
              "            overall  verified  reviewTime  reviewerID  reviewerName   \n",
              "asin                                                                  \n",
              "0764443682        1         1           1           1             1  \\\n",
              "B019YM0O28        1         1           1           1             1   \n",
              "B019YME2N0        1         1           1           1             1   \n",
              "B019YMNS08        1         1           1           1             1   \n",
              "B00S7N99AY        1         1           1           1             1   \n",
              "...             ...       ...         ...         ...           ...   \n",
              "B000PHANNM     2566      2566        2566        2566          2566   \n",
              "B00RLSCLJM     3633      3633        3633        3633          3633   \n",
              "B00I0VHS10     3884      3884        3884        3884          3884   \n",
              "B000KPIHQ4     4371      4371        4371        4371          4370   \n",
              "B000V0IBDM     4380      4380        4380        4380          4379   \n",
              "\n",
              "            reviewText  summary  unixReviewTime  vote  style  image  truncated  \n",
              "asin                                                                            \n",
              "0764443682           1        1               1     0      0      0          1  \n",
              "B019YM0O28           1        1               1     0      0      0          1  \n",
              "B019YME2N0           1        1               1     0      0      0          1  \n",
              "B019YMNS08           1        1               1     0      0      0          1  \n",
              "B00S7N99AY           1        1               1     0      0      0          1  \n",
              "...                ...      ...             ...   ...    ...    ...        ...  \n",
              "B000PHANNM        2566     2563            2566    85   2563    112       2566  \n",
              "B00RLSCLJM        3633     3632            3633   225   3538    210       3633  \n",
              "B00I0VHS10        3884     3880            3884   128   3872    107       3884  \n",
              "B000KPIHQ4        4371     4369            4371   193   3346     38       4371  \n",
              "B000V0IBDM        4380     4378            4380     0      0     38       4380  \n",
              "\n",
              "[186112 rows x 12 columns]"
            ]
          },
          "execution_count": 29,
          "metadata": {},
          "output_type": "execute_result"
        }
      ],
      "source": [
        "df.groupby('asin').count().sort_values('overall')"
      ]
    },
    {
      "attachments": {},
      "cell_type": "markdown",
      "metadata": {},
      "source": [
        "This cell is here just to find a product to use as an example. We will first use the second one from the bottom then the last one (from the bottom)."
      ]
    },
    {
      "attachments": {},
      "cell_type": "markdown",
      "metadata": {},
      "source": [
        "## Now, we will create the embeddings for the reviews and metadata."
      ]
    },
    {
      "cell_type": "code",
      "execution_count": 30,
      "metadata": {
        "id": "drJrZ9fA-Bej"
      },
      "outputs": [],
      "source": [
        "df = df.loc[df['asin'] == 'B000KPIHQ4'].copy()"
      ]
    },
    {
      "attachments": {},
      "cell_type": "markdown",
      "metadata": {},
      "source": [
        "Here, we will use HuggingFace to create the embeddings for the reviews. This is a demo on how we can do it without OpenAI. Later, we will use OpenAI to create the embeddings."
      ]
    },
    {
      "attachments": {},
      "cell_type": "markdown",
      "metadata": {},
      "source": [
        "We will create a new column and insert into the dataframe. We will use the .apply() again."
      ]
    },
    {
      "cell_type": "code",
      "execution_count": 9,
      "metadata": {
        "id": "7rDcZEKx-No4"
      },
      "outputs": [],
      "source": [
        "from langchain.embeddings import HuggingFaceEmbeddings\n",
        "embeddings = HuggingFaceEmbeddings()\n",
        "\n"
      ]
    },
    {
      "cell_type": "code",
      "execution_count": null,
      "metadata": {},
      "outputs": [],
      "source": [
        "df['embeddings']=df.apply(lambda row: embeddings.embed_query(row['truncated']),axis=1)"
      ]
    },
    {
      "cell_type": "code",
      "execution_count": 36,
      "metadata": {},
      "outputs": [
        {
          "data": {
            "text/html": [
              "<div>\n",
              "<style scoped>\n",
              "    .dataframe tbody tr th:only-of-type {\n",
              "        vertical-align: middle;\n",
              "    }\n",
              "\n",
              "    .dataframe tbody tr th {\n",
              "        vertical-align: top;\n",
              "    }\n",
              "\n",
              "    .dataframe thead th {\n",
              "        text-align: right;\n",
              "    }\n",
              "</style>\n",
              "<table border=\"1\" class=\"dataframe\">\n",
              "  <thead>\n",
              "    <tr style=\"text-align: right;\">\n",
              "      <th></th>\n",
              "      <th>overall</th>\n",
              "      <th>verified</th>\n",
              "      <th>reviewTime</th>\n",
              "      <th>reviewerID</th>\n",
              "      <th>asin</th>\n",
              "      <th>reviewerName</th>\n",
              "      <th>reviewText</th>\n",
              "      <th>summary</th>\n",
              "      <th>unixReviewTime</th>\n",
              "      <th>vote</th>\n",
              "      <th>style</th>\n",
              "      <th>image</th>\n",
              "      <th>truncated</th>\n",
              "      <th>embeddings</th>\n",
              "    </tr>\n",
              "  </thead>\n",
              "  <tbody>\n",
              "    <tr>\n",
              "      <th>11218</th>\n",
              "      <td>3.0</td>\n",
              "      <td>True</td>\n",
              "      <td>09 26, 2007</td>\n",
              "      <td>A1CIM0XZ3UA926</td>\n",
              "      <td>B000KPIHQ4</td>\n",
              "      <td>M. Cane</td>\n",
              "      <td>Good price, good product. Howver, it is generi...</td>\n",
              "      <td>Orthotics off the rack</td>\n",
              "      <td>1190764800</td>\n",
              "      <td>2</td>\n",
              "      <td>{'Size Name:': ' Men's 5-5.5, Women's 7-7.5', ...</td>\n",
              "      <td>NaN</td>\n",
              "      <td>Good price, good product. Howver, it is generi...</td>\n",
              "      <td>[-0.007861480116844177, -0.006780322175472975,...</td>\n",
              "    </tr>\n",
              "    <tr>\n",
              "      <th>11219</th>\n",
              "      <td>5.0</td>\n",
              "      <td>True</td>\n",
              "      <td>01 18, 2007</td>\n",
              "      <td>A1EVVPCWRW5YYZ</td>\n",
              "      <td>B000KPIHQ4</td>\n",
              "      <td>Deborah Morris</td>\n",
              "      <td>My husband rates these insoles a 5 for comfort...</td>\n",
              "      <td>Very comfortable</td>\n",
              "      <td>1169078400</td>\n",
              "      <td>3</td>\n",
              "      <td>{'Size Name:': ' Men's 10-10.5, Women's 12', '...</td>\n",
              "      <td>NaN</td>\n",
              "      <td>My husband rates these insoles a 5 for comfort...</td>\n",
              "      <td>[-0.07544194161891937, 0.025455087423324585, -...</td>\n",
              "    </tr>\n",
              "    <tr>\n",
              "      <th>11220</th>\n",
              "      <td>5.0</td>\n",
              "      <td>True</td>\n",
              "      <td>05 18, 2018</td>\n",
              "      <td>A2P3NZ9H4PANK0</td>\n",
              "      <td>B000KPIHQ4</td>\n",
              "      <td>Stephanie</td>\n",
              "      <td>I have worn the Powerstep Pinnacle shoe insole...</td>\n",
              "      <td>... Pinnacle shoe insoles for the past 5 years...</td>\n",
              "      <td>1526601600</td>\n",
              "      <td>NaN</td>\n",
              "      <td>{'Size Name:': ' Men's 6-6.5, Women's 8-8.5', ...</td>\n",
              "      <td>NaN</td>\n",
              "      <td>I have worn the Powerstep Pinnacle shoe insole...</td>\n",
              "      <td>[-0.06397589296102524, 0.012907429598271847, -...</td>\n",
              "    </tr>\n",
              "    <tr>\n",
              "      <th>11221</th>\n",
              "      <td>1.0</td>\n",
              "      <td>True</td>\n",
              "      <td>05 18, 2018</td>\n",
              "      <td>A2975GY186VV7A</td>\n",
              "      <td>B000KPIHQ4</td>\n",
              "      <td>jessica etim</td>\n",
              "      <td>Very uncomfortable feel like I wasted my money!</td>\n",
              "      <td>Uncomfortable</td>\n",
              "      <td>1526601600</td>\n",
              "      <td>NaN</td>\n",
              "      <td>{'Size Name:': ' Men's 7-7.5, Women's 9-9.5', ...</td>\n",
              "      <td>NaN</td>\n",
              "      <td>Very uncomfortable feel like I wasted my money!</td>\n",
              "      <td>[-0.009998543187975883, -0.05696876347064972, ...</td>\n",
              "    </tr>\n",
              "    <tr>\n",
              "      <th>11222</th>\n",
              "      <td>5.0</td>\n",
              "      <td>True</td>\n",
              "      <td>05 17, 2018</td>\n",
              "      <td>A3U8E58RIKWDAW</td>\n",
              "      <td>B000KPIHQ4</td>\n",
              "      <td>Nancy Mazzuca</td>\n",
              "      <td>work perfect</td>\n",
              "      <td>Five Stars</td>\n",
              "      <td>1526515200</td>\n",
              "      <td>NaN</td>\n",
              "      <td>{'Size Name:': ' Men's 9-9.5, Women's 11-11.5'...</td>\n",
              "      <td>NaN</td>\n",
              "      <td>work perfect</td>\n",
              "      <td>[-0.01534109003841877, -0.005922211799770594, ...</td>\n",
              "    </tr>\n",
              "    <tr>\n",
              "      <th>...</th>\n",
              "      <td>...</td>\n",
              "      <td>...</td>\n",
              "      <td>...</td>\n",
              "      <td>...</td>\n",
              "      <td>...</td>\n",
              "      <td>...</td>\n",
              "      <td>...</td>\n",
              "      <td>...</td>\n",
              "      <td>...</td>\n",
              "      <td>...</td>\n",
              "      <td>...</td>\n",
              "      <td>...</td>\n",
              "      <td>...</td>\n",
              "      <td>...</td>\n",
              "    </tr>\n",
              "    <tr>\n",
              "      <th>400874</th>\n",
              "      <td>5.0</td>\n",
              "      <td>True</td>\n",
              "      <td>05 20, 2018</td>\n",
              "      <td>A7XUE85HN4TX0</td>\n",
              "      <td>B000KPIHQ4</td>\n",
              "      <td>Kentuckymom</td>\n",
              "      <td>My podiatrist recommended these Powerstep Inso...</td>\n",
              "      <td>Superb comfort and support</td>\n",
              "      <td>1526774400</td>\n",
              "      <td>NaN</td>\n",
              "      <td>{'Size Name:': ' Men's 6-6.5, Women's 8-8.5', ...</td>\n",
              "      <td>NaN</td>\n",
              "      <td>My podiatrist recommended these Powerstep Inso...</td>\n",
              "      <td>[-0.05021457374095917, -0.002803092123940587, ...</td>\n",
              "    </tr>\n",
              "    <tr>\n",
              "      <th>400875</th>\n",
              "      <td>3.0</td>\n",
              "      <td>True</td>\n",
              "      <td>05 20, 2018</td>\n",
              "      <td>A1KTBKOTBM436K</td>\n",
              "      <td>B000KPIHQ4</td>\n",
              "      <td>Amazon Customer</td>\n",
              "      <td>They worked well for the first few weeks and t...</td>\n",
              "      <td>Slid around in my shoes a bit</td>\n",
              "      <td>1526774400</td>\n",
              "      <td>NaN</td>\n",
              "      <td>{'Size Name:': ' Men's 10-10.5, Women's 12', '...</td>\n",
              "      <td>NaN</td>\n",
              "      <td>They worked well for the first few weeks and t...</td>\n",
              "      <td>[-0.04547719657421112, 0.01694941706955433, -0...</td>\n",
              "    </tr>\n",
              "    <tr>\n",
              "      <th>400876</th>\n",
              "      <td>5.0</td>\n",
              "      <td>True</td>\n",
              "      <td>05 20, 2018</td>\n",
              "      <td>A3S84SEN2Z6DZU</td>\n",
              "      <td>B000KPIHQ4</td>\n",
              "      <td>EJ</td>\n",
              "      <td>I think these are the best.</td>\n",
              "      <td>Five Stars</td>\n",
              "      <td>1526774400</td>\n",
              "      <td>NaN</td>\n",
              "      <td>{'Size Name:': ' Men's 7-7.5, Women's 9-9.5', ...</td>\n",
              "      <td>NaN</td>\n",
              "      <td>I think these are the best.</td>\n",
              "      <td>[-0.029356878250837326, 0.005295349285006523, ...</td>\n",
              "    </tr>\n",
              "    <tr>\n",
              "      <th>400877</th>\n",
              "      <td>5.0</td>\n",
              "      <td>True</td>\n",
              "      <td>05 19, 2018</td>\n",
              "      <td>A3JRCF1I92QLW0</td>\n",
              "      <td>B000KPIHQ4</td>\n",
              "      <td>Amazon Customer</td>\n",
              "      <td>With plantar fasciitis, my feet hurt all the t...</td>\n",
              "      <td>With plantar fasciitis, my feet hurt all the t...</td>\n",
              "      <td>1526688000</td>\n",
              "      <td>NaN</td>\n",
              "      <td>{'Size Name:': ' Men's 6-6.5, Women's 8-8.5', ...</td>\n",
              "      <td>NaN</td>\n",
              "      <td>With plantar fasciitis, my feet hurt all the t...</td>\n",
              "      <td>[-0.03282293677330017, -0.0400298610329628, -0...</td>\n",
              "    </tr>\n",
              "    <tr>\n",
              "      <th>400878</th>\n",
              "      <td>5.0</td>\n",
              "      <td>True</td>\n",
              "      <td>05 19, 2018</td>\n",
              "      <td>A2EKZF2KPCH2FQ</td>\n",
              "      <td>B000KPIHQ4</td>\n",
              "      <td>J. ROBBINS</td>\n",
              "      <td>i have muscular dystrophy and can't afford cus...</td>\n",
              "      <td>great</td>\n",
              "      <td>1526688000</td>\n",
              "      <td>NaN</td>\n",
              "      <td>{'Size Name:': ' Men's 6-6.5, Women's 8-8.5', ...</td>\n",
              "      <td>NaN</td>\n",
              "      <td>i have muscular dystrophy and can't afford cus...</td>\n",
              "      <td>[-0.044347453862428665, 0.005271718371659517, ...</td>\n",
              "    </tr>\n",
              "  </tbody>\n",
              "</table>\n",
              "<p>4371 rows × 14 columns</p>\n",
              "</div>"
            ],
            "text/plain": [
              "        overall  verified   reviewTime      reviewerID        asin   \n",
              "11218       3.0      True  09 26, 2007  A1CIM0XZ3UA926  B000KPIHQ4  \\\n",
              "11219       5.0      True  01 18, 2007  A1EVVPCWRW5YYZ  B000KPIHQ4   \n",
              "11220       5.0      True  05 18, 2018  A2P3NZ9H4PANK0  B000KPIHQ4   \n",
              "11221       1.0      True  05 18, 2018  A2975GY186VV7A  B000KPIHQ4   \n",
              "11222       5.0      True  05 17, 2018  A3U8E58RIKWDAW  B000KPIHQ4   \n",
              "...         ...       ...          ...             ...         ...   \n",
              "400874      5.0      True  05 20, 2018   A7XUE85HN4TX0  B000KPIHQ4   \n",
              "400875      3.0      True  05 20, 2018  A1KTBKOTBM436K  B000KPIHQ4   \n",
              "400876      5.0      True  05 20, 2018  A3S84SEN2Z6DZU  B000KPIHQ4   \n",
              "400877      5.0      True  05 19, 2018  A3JRCF1I92QLW0  B000KPIHQ4   \n",
              "400878      5.0      True  05 19, 2018  A2EKZF2KPCH2FQ  B000KPIHQ4   \n",
              "\n",
              "           reviewerName                                         reviewText   \n",
              "11218           M. Cane  Good price, good product. Howver, it is generi...  \\\n",
              "11219    Deborah Morris  My husband rates these insoles a 5 for comfort...   \n",
              "11220         Stephanie  I have worn the Powerstep Pinnacle shoe insole...   \n",
              "11221      jessica etim    Very uncomfortable feel like I wasted my money!   \n",
              "11222     Nancy Mazzuca                                       work perfect   \n",
              "...                 ...                                                ...   \n",
              "400874      Kentuckymom  My podiatrist recommended these Powerstep Inso...   \n",
              "400875  Amazon Customer  They worked well for the first few weeks and t...   \n",
              "400876               EJ                        I think these are the best.   \n",
              "400877  Amazon Customer  With plantar fasciitis, my feet hurt all the t...   \n",
              "400878       J. ROBBINS  i have muscular dystrophy and can't afford cus...   \n",
              "\n",
              "                                                  summary  unixReviewTime   \n",
              "11218                              Orthotics off the rack      1190764800  \\\n",
              "11219                                    Very comfortable      1169078400   \n",
              "11220   ... Pinnacle shoe insoles for the past 5 years...      1526601600   \n",
              "11221                                       Uncomfortable      1526601600   \n",
              "11222                                          Five Stars      1526515200   \n",
              "...                                                   ...             ...   \n",
              "400874                         Superb comfort and support      1526774400   \n",
              "400875                      Slid around in my shoes a bit      1526774400   \n",
              "400876                                         Five Stars      1526774400   \n",
              "400877  With plantar fasciitis, my feet hurt all the t...      1526688000   \n",
              "400878                                              great      1526688000   \n",
              "\n",
              "       vote                                              style image   \n",
              "11218     2  {'Size Name:': ' Men's 5-5.5, Women's 7-7.5', ...   NaN  \\\n",
              "11219     3  {'Size Name:': ' Men's 10-10.5, Women's 12', '...   NaN   \n",
              "11220   NaN  {'Size Name:': ' Men's 6-6.5, Women's 8-8.5', ...   NaN   \n",
              "11221   NaN  {'Size Name:': ' Men's 7-7.5, Women's 9-9.5', ...   NaN   \n",
              "11222   NaN  {'Size Name:': ' Men's 9-9.5, Women's 11-11.5'...   NaN   \n",
              "...     ...                                                ...   ...   \n",
              "400874  NaN  {'Size Name:': ' Men's 6-6.5, Women's 8-8.5', ...   NaN   \n",
              "400875  NaN  {'Size Name:': ' Men's 10-10.5, Women's 12', '...   NaN   \n",
              "400876  NaN  {'Size Name:': ' Men's 7-7.5, Women's 9-9.5', ...   NaN   \n",
              "400877  NaN  {'Size Name:': ' Men's 6-6.5, Women's 8-8.5', ...   NaN   \n",
              "400878  NaN  {'Size Name:': ' Men's 6-6.5, Women's 8-8.5', ...   NaN   \n",
              "\n",
              "                                                truncated   \n",
              "11218   Good price, good product. Howver, it is generi...  \\\n",
              "11219   My husband rates these insoles a 5 for comfort...   \n",
              "11220   I have worn the Powerstep Pinnacle shoe insole...   \n",
              "11221     Very uncomfortable feel like I wasted my money!   \n",
              "11222                                        work perfect   \n",
              "...                                                   ...   \n",
              "400874  My podiatrist recommended these Powerstep Inso...   \n",
              "400875  They worked well for the first few weeks and t...   \n",
              "400876                        I think these are the best.   \n",
              "400877  With plantar fasciitis, my feet hurt all the t...   \n",
              "400878  i have muscular dystrophy and can't afford cus...   \n",
              "\n",
              "                                               embeddings  \n",
              "11218   [-0.007861480116844177, -0.006780322175472975,...  \n",
              "11219   [-0.07544194161891937, 0.025455087423324585, -...  \n",
              "11220   [-0.06397589296102524, 0.012907429598271847, -...  \n",
              "11221   [-0.009998543187975883, -0.05696876347064972, ...  \n",
              "11222   [-0.01534109003841877, -0.005922211799770594, ...  \n",
              "...                                                   ...  \n",
              "400874  [-0.05021457374095917, -0.002803092123940587, ...  \n",
              "400875  [-0.04547719657421112, 0.01694941706955433, -0...  \n",
              "400876  [-0.029356878250837326, 0.005295349285006523, ...  \n",
              "400877  [-0.03282293677330017, -0.0400298610329628, -0...  \n",
              "400878  [-0.044347453862428665, 0.005271718371659517, ...  \n",
              "\n",
              "[4371 rows x 14 columns]"
            ]
          },
          "execution_count": 36,
          "metadata": {},
          "output_type": "execute_result"
        }
      ],
      "source": [
        "df"
      ]
    },
    {
      "attachments": {},
      "cell_type": "markdown",
      "metadata": {},
      "source": [
        "Now, with the embeddings we will create a simple random forest model to predict the rating of the product. Sparing the data into train and test. We will use scikit-learn to do this."
      ]
    },
    {
      "cell_type": "code",
      "execution_count": 34,
      "metadata": {
        "id": "NqW4Zg_u-gHd"
      },
      "outputs": [],
      "source": [
        "from sklearn.model_selection import train_test_split\n",
        "from sklearn.metrics import mean_absolute_error\n",
        "\n",
        "X_train, X_test, y_train, y_test = train_test_split(\n",
        "    list(df.embeddings.values),\n",
        "    df.overall,\n",
        "    test_size = 0.2,\n",
        "    random_state=1\n",
        ")"
      ]
    },
    {
      "attachments": {},
      "cell_type": "markdown",
      "metadata": {},
      "source": [
        "Lets train the model and see the results. 150 estimators should be fine."
      ]
    },
    {
      "cell_type": "code",
      "execution_count": null,
      "metadata": {
        "id": "_5X0kZDN-a5q"
      },
      "outputs": [],
      "source": [
        "from sklearn.ensemble import RandomForestRegressor\n",
        "\n",
        "model = RandomForestRegressor(n_estimators=150)\n",
        "model.fit(X_train, y_train)\n",
        "y_pred = model.predict(X_test)\n",
        "\n",
        "mean_absolute_error(y_test, y_pred)"
      ]
    },
    {
      "attachments": {},
      "cell_type": "markdown",
      "metadata": {},
      "source": [
        "With this code, we get a mean absolute error of 0.529 (0.53). Which means that on average the prediction will be off by 53%. This is not bad, far from being good too, we could improve and do better, with some optimization or even using tensorflow/pytorch to run an advanced model, this could go below 0.3 for sure."
      ]
    },
    {
      "attachments": {},
      "cell_type": "markdown",
      "metadata": {},
      "source": [
        "# Now we will introduce the embeddings in our vector database"
      ]
    },
    {
      "attachments": {},
      "cell_type": "markdown",
      "metadata": {},
      "source": [
        "First, lets instantiate the Pinecone environment and load the index the we inserted in the .env file."
      ]
    },
    {
      "cell_type": "code",
      "execution_count": 5,
      "metadata": {
        "id": "ERZwBLrm_D6D"
      },
      "outputs": [
        {
          "name": "stderr",
          "output_type": "stream",
          "text": [
            "/Users/guilhermezago/Documents/GPT-Vectorized-Analysis/.venv/lib/python3.11/site-packages/pinecone/index.py:4: TqdmWarning: IProgress not found. Please update jupyter and ipywidgets. See https://ipywidgets.readthedocs.io/en/stable/user_install.html\n",
            "  from tqdm.autonotebook import tqdm\n"
          ]
        }
      ],
      "source": [
        "import pinecone\n",
        "from langchain.vectorstores import Pinecone\n",
        "\n",
        "pinecone.init(\n",
        "    api_key=os.getenv('PINECONE_API_KEY'),  \n",
        "    environment=os.getenv('PINECONE_ENV')  \n",
        ")"
      ]
    },
    {
      "attachments": {},
      "cell_type": "markdown",
      "metadata": {},
      "source": [
        "Here, we transform the truncated column of our previous DF into a list of reviews (strings). This is needed to insert the vectors into the database."
      ]
    },
    {
      "cell_type": "code",
      "execution_count": 38,
      "metadata": {
        "id": "djRH_VX8_yRB"
      },
      "outputs": [],
      "source": [
        "texts=df['truncated'].tolist()"
      ]
    },
    {
      "attachments": {},
      "cell_type": "markdown",
      "metadata": {},
      "source": [
        "The following cell is another facility brought with the LangChain Lib. We will directly insert the vectors into the database, using the .from_texts() method, into a database the we can call whatever we want. In this case, we will call it \"gpt-vector-analysis\"."
      ]
    },
    {
      "cell_type": "code",
      "execution_count": 6,
      "metadata": {
        "id": "isuWWKbq_5Ew"
      },
      "outputs": [
        {
          "ename": "NameError",
          "evalue": "name 'texts' is not defined",
          "output_type": "error",
          "traceback": [
            "\u001b[0;31m---------------------------------------------------------------------------\u001b[0m",
            "\u001b[0;31mNameError\u001b[0m                                 Traceback (most recent call last)",
            "Cell \u001b[0;32mIn[6], line 1\u001b[0m\n\u001b[0;32m----> 1\u001b[0m vstore \u001b[39m=\u001b[39m Pinecone\u001b[39m.\u001b[39mfrom_texts(texts, embeddings, index_name\u001b[39m=\u001b[39m\u001b[39m'\u001b[39m\u001b[39mgpt-vector-analysis\u001b[39m\u001b[39m'\u001b[39m)\n",
            "\u001b[0;31mNameError\u001b[0m: name 'texts' is not defined"
          ]
        }
      ],
      "source": [
        "vstore = Pinecone.from_texts(texts, embeddings, index_name='gpt-vector-analysis')"
      ]
    },
    {
      "cell_type": "code",
      "execution_count": 10,
      "metadata": {},
      "outputs": [],
      "source": [
        "vstore = Pinecone.from_existing_index('gpt-vector-analysis', embeddings)"
      ]
    },
    {
      "attachments": {
        "image.png": {
          "image/png": "[encoded data removed]"
        }
      },
      "cell_type": "markdown",
      "metadata": {},
      "source": [
        "After the upload is complete (took about 7 minutes and 40 seconds), if we check our Pinecone Db, we should see something like the following image: \n",
        "\n",
        "![image.png](attachment:image.png)\n",
        "\n",
        "(Note that I had to manually create this Index in the Pinecone dashboard since this function doesn't create it automatically, but we are able to create and index as we see in following tests)"
      ]
    },
    {
      "attachments": {},
      "cell_type": "markdown",
      "metadata": {},
      "source": [
        "Here we do a simple query to check if the vectors are there. We will use the .similarity_search() method to find the contents the can match our query:"
      ]
    },
    {
      "cell_type": "code",
      "execution_count": 11,
      "metadata": {
        "id": "v6bdMsFEAM_a"
      },
      "outputs": [
        {
          "name": "stdout",
          "output_type": "stream",
          "text": [
            "[Document(page_content='Acceptable quality. No issues', metadata={}), Document(page_content='Low quality but sometimes you get what you pay for.', metadata={}), Document(page_content='Does the job and good quality.', metadata={}), Document(page_content='Quality is everything!', metadata={})]\n"
          ]
        }
      ],
      "source": [
        "query = \"The quality is good\"\n",
        "result = vstore.similarity_search(query)\n",
        "print(result)"
      ]
    },
    {
      "attachments": {},
      "cell_type": "markdown",
      "metadata": {},
      "source": [
        "Now that we know that the Vector Database is working, the data is there and we can use it, Let's use the power of GPT-4 to gives us an overview, analyze, and interact with what we've built. "
      ]
    },
    {
      "attachments": {},
      "cell_type": "markdown",
      "metadata": {},
      "source": [
        "### FYI:\n",
        "\n",
        "**Chains** means easily reusable components which can be linked together."
      ]
    },
    {
      "cell_type": "code",
      "execution_count": 12,
      "metadata": {
        "id": "l4wke6atAHqO"
      },
      "outputs": [],
      "source": [
        "from langchain.chains import RetrievalQA\n",
        "from langchain.chat_models import ChatOpenAI\n",
        "\n",
        "chat = ChatOpenAI(model_name=\"gpt-4\",temperature=0.0)\n",
        "review_chain = RetrievalQA.from_chain_type(llm=chat, chain_type=\"stuff\", retriever=vstore.as_retriever())"
      ]
    },
    {
      "attachments": {},
      "cell_type": "markdown",
      "metadata": {},
      "source": [
        "The cell above instantiate the model of GPT-4 using the ChatOpenAI model from langchain lib (another cool way to use it) to use it by only calling the `chat`. \n",
        "\n",
        "And we create the `review_chain` that uses the RetrievalQA function from langchain too.\n",
        "\n",
        "RetrievalQA is a function that is able to return the most relavant vectors when receiving a given prompt. We use the `chat` that we just created to be our *llm* method, the *chain_type* we use the `\"stuff\"` which means that we will stuff all the related content together and pass it as context to the LLM."
      ]
    },
    {
      "attachments": {},
      "cell_type": "markdown",
      "metadata": {},
      "source": [
        "The next cell is the query that we will pass to the GPT-4 and what we will be asking to receive as response."
      ]
    },
    {
      "cell_type": "code",
      "execution_count": 13,
      "metadata": {
        "id": "6sneC6j3Aplc"
      },
      "outputs": [
        {
          "name": "stdout",
          "output_type": "stream",
          "text": [
            "Overall impression of the reviews:\n",
            "\n",
            "- Some users found relief from foot pain and discomfort with the Powerstep Pinnacle Orthotic Shoe Insoles.\n",
            "- One user mentioned that the insoles did not help with their plantar fasciitis pain.\n",
            "- Another user found the arch support in the Superfeet insoles to be too high, but their father preferred them.\n",
            "- A user's husband found significant improvement with the insoles and requested additional pairs.\n",
            "- One user mentioned that understanding the specific foot issues is important for choosing the right insole.\n",
            "\n",
            "Suggestions for improvement:\n",
            "\n",
            "- Address the issue of plantar fasciitis pain relief, as one user did not find relief with the current insoles.\n",
            "- Consider offering different arch support levels to accommodate various preferences and foot types.\n",
            "- Provide guidance on selecting the appropriate insole based on specific foot issues and needs.\n"
          ]
        }
      ],
      "source": [
        "q=\"\"\"\n",
        "The reviews you see are for a product called 'Powerstep Pinnacle Orthotic Shoe Insoles'.\n",
        "What is the overall impression of these reviews? Give most prevalent examples in bullets. \n",
        "What do you suggest we focus on improving?\n",
        "\"\"\"\n",
        "\n",
        "result=review_chain.run(q)\n",
        "print(result)"
      ]
    },
    {
      "attachments": {},
      "cell_type": "markdown",
      "metadata": {},
      "source": [
        "## This response shows the power of GPT-4 and a great functionallity when used with LangChain + Pinecone. This is just a simple example of what we can do with this, and we can keep expanding to a lot of other things in the whole computers world."
      ]
    },
    {
      "attachments": {},
      "cell_type": "markdown",
      "metadata": {},
      "source": [
        "This could be implemented in a way that once a week, biweekly, or whatever, the automation could run and prepare a digest for a company about how the clients are feeling about each product."
      ]
    },
    {
      "attachments": {},
      "cell_type": "markdown",
      "metadata": {},
      "source": [
        "# Filtered Vector Similarity Search"
      ]
    },
    {
      "attachments": {},
      "cell_type": "markdown",
      "metadata": {},
      "source": [
        "To be even more useful, and be capable of using even more of GPT-4s artificial intelligence, we will now separate the dataframe and create a metadatafield to do upsert in the database. We will begin by renaming some collumns and creating a new dataframe with only the columns that we need."
      ]
    },
    {
      "cell_type": "code",
      "execution_count": 46,
      "metadata": {
        "id": "HQVLN_d-Ashz"
      },
      "outputs": [],
      "source": [
        "df=df.rename(columns={'embeddings':'values','reviewerID':'id'})\n",
        "df['metadata']=df.apply(lambda row: dict(rating=row['overall']), axis=1)"
      ]
    },
    {
      "attachments": {},
      "cell_type": "markdown",
      "metadata": {},
      "source": [
        "(We will need to do this using pinecone methods, since LangChain doesn't have a method to do this yet)"
      ]
    },
    {
      "cell_type": "code",
      "execution_count": 47,
      "metadata": {
        "id": "7RAvagBLBNlf"
      },
      "outputs": [],
      "source": [
        "data=df[['metadata','values','id']].to_dict(orient='records')\n",
        "data_local=df[['metadata','values','reviewText','id']].to_dict(orient='records')"
      ]
    },
    {
      "attachments": {},
      "cell_type": "markdown",
      "metadata": {},
      "source": [
        "Here we create two copies of the dataframe, so that one is upserted and one for extracting the reviewText from ids returned from the similarity search."
      ]
    },
    {
      "cell_type": "code",
      "execution_count": 49,
      "metadata": {
        "id": "3XSefD1GBgJb"
      },
      "outputs": [],
      "source": [
        "pinecone.create_index(name='filtered', metric='euclidean', dimension=768)\n",
        "index = pinecone.Index('filtered')"
      ]
    },
    {
      "attachments": {},
      "cell_type": "markdown",
      "metadata": {},
      "source": [
        "This is the function that we use to create a index, like I said earlier. We instantiate the just created index in the `index`."
      ]
    },
    {
      "attachments": {},
      "cell_type": "markdown",
      "metadata": {},
      "source": [
        "To filter in the right way we will use the metadata that transformed in the cells above. Our upsert needs to follow a format that is specified in the documentation of Pinecone. Its like this:\n",
        "\n",
        "```python\n",
        "   vectors=[\n",
        "        {\n",
        "        'id':'vec1', \n",
        "        'values':[0.1, 0.2, 0.3, 0.4], \n",
        "        'metadata':{'genre': 'drama'},\n",
        "           'sparse_values':\n",
        "           {'indices': [10, 45, 16],\n",
        "           'values':  [0.5, 0.5, 0.2]}},\n",
        "        {'id':'vec2', \n",
        "        'values':[0.2, 0.3, 0.4, 0.5], \n",
        "        'metadata':{'genre': 'action'},\n",
        "           'sparse_values':\n",
        "           {'indices': [15, 40, 11],\n",
        "           'values':  [0.4, 0.5, 0.2]}}\n",
        "    ], \n",
        "    ```"
      ]
    },
    {
      "attachments": {},
      "cell_type": "markdown",
      "metadata": {},
      "source": [
        "Here, we upload the data in batches of 50"
      ]
    },
    {
      "cell_type": "code",
      "execution_count": 58,
      "metadata": {
        "id": "B0OBFwUiBkc-"
      },
      "outputs": [
        {
          "name": "stderr",
          "output_type": "stream",
          "text": [
            "100%|██████████| 88/88 [00:32<00:00,  2.73it/s]\n"
          ]
        }
      ],
      "source": [
        "from tqdm.auto import tqdm\n",
        "\n",
        "for i in tqdm(range(0, len(data), 50)):\n",
        "    j= i + 50\n",
        "    if j > len(data):\n",
        "        j = len(data)\n",
        "    batch = data[i: j]\n",
        "    index.upsert(vectors=batch)"
      ]
    },
    {
      "cell_type": "code",
      "execution_count": null,
      "metadata": {
        "id": "n6ekNjL8Brcm"
      },
      "outputs": [],
      "source": [
        "query=embeddings.embed_query(\"will buy again\")\n",
        "results = index.query(queries=[query], top_k=100, filter={'rating': {'$eq': 4.0}})\n",
        "print(results)"
      ]
    },
    {
      "cell_type": "code",
      "execution_count": 52,
      "metadata": {
        "id": "4fdaZJGwBx33"
      },
      "outputs": [],
      "source": [
        "get_rating_from_id = {\n",
        "    x['id']: {\n",
        "        'rating': x['metadata']['rating'],\n",
        "        'review': x['reviewText'],\n",
        "    } for x in data_local}"
      ]
    },
    {
      "cell_type": "code",
      "execution_count": 53,
      "metadata": {
        "id": "C_30OmFGB8Il"
      },
      "outputs": [],
      "source": [
        "def review_and_rating(query,rating):\n",
        "    query=embeddings.embed_query(query)\n",
        "    results = index.query(queries=[query], top_k=100, filter={'rating': {'$eq': rating}})\n",
        "    ids = [i['id'] for i in results['results'][0]['matches']]\n",
        "    l=[]\n",
        "    for i in ids:\n",
        "        l.append(get_rating_from_id[i])\n",
        "    return pd.DataFrame(l)"
      ]
    },
    {
      "cell_type": "code",
      "execution_count": 54,
      "metadata": {
        "id": "C-G8QrlRCKU9"
      },
      "outputs": [],
      "source": [
        "repurchase_list=review_and_rating('will purchase again', 5.0)\n",
        "\n",
        "winback=review_and_rating('disappointed', 1.0)\n"
      ]
    },
    {
      "cell_type": "code",
      "execution_count": 55,
      "metadata": {},
      "outputs": [
        {
          "data": {
            "text/html": [
              "<div>\n",
              "<style scoped>\n",
              "    .dataframe tbody tr th:only-of-type {\n",
              "        vertical-align: middle;\n",
              "    }\n",
              "\n",
              "    .dataframe tbody tr th {\n",
              "        vertical-align: top;\n",
              "    }\n",
              "\n",
              "    .dataframe thead th {\n",
              "        text-align: right;\n",
              "    }\n",
              "</style>\n",
              "<table border=\"1\" class=\"dataframe\">\n",
              "  <thead>\n",
              "    <tr style=\"text-align: right;\">\n",
              "      <th></th>\n",
              "      <th>rating</th>\n",
              "      <th>review</th>\n",
              "    </tr>\n",
              "  </thead>\n",
              "  <tbody>\n",
              "    <tr>\n",
              "      <th>0</th>\n",
              "      <td>5.0</td>\n",
              "      <td>Would buy again</td>\n",
              "    </tr>\n",
              "    <tr>\n",
              "      <th>1</th>\n",
              "      <td>5.0</td>\n",
              "      <td>Good service, will buy again</td>\n",
              "    </tr>\n",
              "    <tr>\n",
              "      <th>2</th>\n",
              "      <td>5.0</td>\n",
              "      <td>Happy with my purchase</td>\n",
              "    </tr>\n",
              "    <tr>\n",
              "      <th>3</th>\n",
              "      <td>5.0</td>\n",
              "      <td>Happy with purchase</td>\n",
              "    </tr>\n",
              "    <tr>\n",
              "      <th>4</th>\n",
              "      <td>5.0</td>\n",
              "      <td>Great Item, I will be it buying again!</td>\n",
              "    </tr>\n",
              "    <tr>\n",
              "      <th>...</th>\n",
              "      <td>...</td>\n",
              "      <td>...</td>\n",
              "    </tr>\n",
              "    <tr>\n",
              "      <th>95</th>\n",
              "      <td>5.0</td>\n",
              "      <td>As described. Good Transaction.</td>\n",
              "    </tr>\n",
              "    <tr>\n",
              "      <th>96</th>\n",
              "      <td>5.0</td>\n",
              "      <td>Excellent service and size was great.</td>\n",
              "    </tr>\n",
              "    <tr>\n",
              "      <th>97</th>\n",
              "      <td>5.0</td>\n",
              "      <td>Nice product and quick delivery</td>\n",
              "    </tr>\n",
              "    <tr>\n",
              "      <th>98</th>\n",
              "      <td>5.0</td>\n",
              "      <td>Great product.</td>\n",
              "    </tr>\n",
              "    <tr>\n",
              "      <th>99</th>\n",
              "      <td>5.0</td>\n",
              "      <td>Great product.</td>\n",
              "    </tr>\n",
              "  </tbody>\n",
              "</table>\n",
              "<p>100 rows × 2 columns</p>\n",
              "</div>"
            ],
            "text/plain": [
              "    rating                                  review\n",
              "0      5.0                         Would buy again\n",
              "1      5.0            Good service, will buy again\n",
              "2      5.0                  Happy with my purchase\n",
              "3      5.0                     Happy with purchase\n",
              "4      5.0  Great Item, I will be it buying again!\n",
              "..     ...                                     ...\n",
              "95     5.0         As described. Good Transaction.\n",
              "96     5.0   Excellent service and size was great.\n",
              "97     5.0         Nice product and quick delivery\n",
              "98     5.0                          Great product.\n",
              "99     5.0                          Great product.\n",
              "\n",
              "[100 rows x 2 columns]"
            ]
          },
          "execution_count": 55,
          "metadata": {},
          "output_type": "execute_result"
        }
      ],
      "source": [
        "repurchase_list"
      ]
    },
    {
      "cell_type": "code",
      "execution_count": 56,
      "metadata": {},
      "outputs": [
        {
          "data": {
            "text/html": [
              "<div>\n",
              "<style scoped>\n",
              "    .dataframe tbody tr th:only-of-type {\n",
              "        vertical-align: middle;\n",
              "    }\n",
              "\n",
              "    .dataframe tbody tr th {\n",
              "        vertical-align: top;\n",
              "    }\n",
              "\n",
              "    .dataframe thead th {\n",
              "        text-align: right;\n",
              "    }\n",
              "</style>\n",
              "<table border=\"1\" class=\"dataframe\">\n",
              "  <thead>\n",
              "    <tr style=\"text-align: right;\">\n",
              "      <th></th>\n",
              "      <th>rating</th>\n",
              "      <th>review</th>\n",
              "    </tr>\n",
              "  </thead>\n",
              "  <tbody>\n",
              "    <tr>\n",
              "      <th>0</th>\n",
              "      <td>1.0</td>\n",
              "      <td>Not what I expected</td>\n",
              "    </tr>\n",
              "    <tr>\n",
              "      <th>1</th>\n",
              "      <td>1.0</td>\n",
              "      <td>Damaged</td>\n",
              "    </tr>\n",
              "    <tr>\n",
              "      <th>2</th>\n",
              "      <td>1.0</td>\n",
              "      <td>Not Happy, felt like these were \"Used\" already...</td>\n",
              "    </tr>\n",
              "    <tr>\n",
              "      <th>3</th>\n",
              "      <td>1.0</td>\n",
              "      <td>Uncomfortable.</td>\n",
              "    </tr>\n",
              "    <tr>\n",
              "      <th>4</th>\n",
              "      <td>1.0</td>\n",
              "      <td>Very disappointed. I shopped around online a l...</td>\n",
              "    </tr>\n",
              "    <tr>\n",
              "      <th>...</th>\n",
              "      <td>...</td>\n",
              "      <td>...</td>\n",
              "    </tr>\n",
              "    <tr>\n",
              "      <th>95</th>\n",
              "      <td>1.0</td>\n",
              "      <td>I bought it because I have foot pain but this ...</td>\n",
              "    </tr>\n",
              "    <tr>\n",
              "      <th>96</th>\n",
              "      <td>1.0</td>\n",
              "      <td>I ordered two Powerstep insoles in two differe...</td>\n",
              "    </tr>\n",
              "    <tr>\n",
              "      <th>97</th>\n",
              "      <td>1.0</td>\n",
              "      <td>Make sure that you know that these are right f...</td>\n",
              "    </tr>\n",
              "    <tr>\n",
              "      <th>98</th>\n",
              "      <td>1.0</td>\n",
              "      <td>I should have known that something wasn't righ...</td>\n",
              "    </tr>\n",
              "    <tr>\n",
              "      <th>99</th>\n",
              "      <td>1.0</td>\n",
              "      <td>These do not provide any \"cushion\". They are v...</td>\n",
              "    </tr>\n",
              "  </tbody>\n",
              "</table>\n",
              "<p>100 rows × 2 columns</p>\n",
              "</div>"
            ],
            "text/plain": [
              "    rating                                             review\n",
              "0      1.0                                Not what I expected\n",
              "1      1.0                                            Damaged\n",
              "2      1.0  Not Happy, felt like these were \"Used\" already...\n",
              "3      1.0                                     Uncomfortable.\n",
              "4      1.0  Very disappointed. I shopped around online a l...\n",
              "..     ...                                                ...\n",
              "95     1.0  I bought it because I have foot pain but this ...\n",
              "96     1.0  I ordered two Powerstep insoles in two differe...\n",
              "97     1.0  Make sure that you know that these are right f...\n",
              "98     1.0  I should have known that something wasn't righ...\n",
              "99     1.0  These do not provide any \"cushion\". They are v...\n",
              "\n",
              "[100 rows x 2 columns]"
            ]
          },
          "execution_count": 56,
          "metadata": {},
          "output_type": "execute_result"
        }
      ],
      "source": [
        "winback"
      ]
    }
  ],
  "metadata": {
    "colab": {
      "authorship_tag": "ABX9TyO6+Sy9CskVr7oBXABvSo8e",
      "include_colab_link": true,
      "provenance": []
    },
    "kernelspec": {
      "display_name": "Python 3",
      "name": "python3"
    },
    "language_info": {
      "codemirror_mode": {
        "name": "ipython",
        "version": 3
      },
      "file_extension": ".py",
      "mimetype": "text/x-python",
      "name": "python",
      "nbconvert_exporter": "python",
      "pygments_lexer": "ipython3",
      "version": "3.11.3"
    }
  },
  "nbformat": 4,
  "nbformat_minor": 0
}
