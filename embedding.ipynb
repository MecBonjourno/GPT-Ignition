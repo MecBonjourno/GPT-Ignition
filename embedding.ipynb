{
 "cells": [
  {
   "cell_type": "code",
   "execution_count": 1,
   "metadata": {},
   "outputs": [
    {
     "name": "stdout",
     "output_type": "stream",
     "text": [
      "Requirement already satisfied: langchain in c:\\users\\mec bonjourno\\appdata\\roaming\\python\\python311\\site-packages (0.0.137)\n",
      "Requirement already satisfied: PyYAML>=5.4.1 in c:\\users\\mec bonjourno\\appdata\\roaming\\python\\python311\\site-packages (from langchain) (6.0)\n",
      "Requirement already satisfied: SQLAlchemy<2,>=1 in c:\\users\\mec bonjourno\\appdata\\roaming\\python\\python311\\site-packages (from langchain) (1.4.48)\n",
      "Requirement already satisfied: aiohttp<4.0.0,>=3.8.3 in c:\\python311\\lib\\site-packages (from langchain) (3.8.4)\n",
      "Requirement already satisfied: dataclasses-json<0.6.0,>=0.5.7 in c:\\users\\mec bonjourno\\appdata\\roaming\\python\\python311\\site-packages (from langchain) (0.5.7)\n",
      "Requirement already satisfied: numpy<2,>=1 in c:\\users\\mec bonjourno\\appdata\\roaming\\python\\python311\\site-packages (from langchain) (1.24.3)\n",
      "Requirement already satisfied: openapi-schema-pydantic<2.0,>=1.2 in c:\\users\\mec bonjourno\\appdata\\roaming\\python\\python311\\site-packages (from langchain) (1.2.4)\n",
      "Requirement already satisfied: pydantic<2,>=1 in c:\\users\\mec bonjourno\\appdata\\roaming\\python\\python311\\site-packages (from langchain) (1.10.7)\n",
      "Requirement already satisfied: requests<3,>=2 in c:\\python311\\lib\\site-packages (from langchain) (2.28.2)\n",
      "Requirement already satisfied: tenacity<9.0.0,>=8.1.0 in c:\\python311\\lib\\site-packages (from langchain) (8.2.2)\n",
      "Requirement already satisfied: attrs>=17.3.0 in c:\\python311\\lib\\site-packages (from aiohttp<4.0.0,>=3.8.3->langchain) (23.1.0)\n",
      "Requirement already satisfied: charset-normalizer<4.0,>=2.0 in c:\\python311\\lib\\site-packages (from aiohttp<4.0.0,>=3.8.3->langchain) (3.1.0)\n",
      "Requirement already satisfied: multidict<7.0,>=4.5 in c:\\python311\\lib\\site-packages (from aiohttp<4.0.0,>=3.8.3->langchain) (6.0.4)\n",
      "Requirement already satisfied: async-timeout<5.0,>=4.0.0a3 in c:\\python311\\lib\\site-packages (from aiohttp<4.0.0,>=3.8.3->langchain) (4.0.2)\n",
      "Requirement already satisfied: yarl<2.0,>=1.0 in c:\\python311\\lib\\site-packages (from aiohttp<4.0.0,>=3.8.3->langchain) (1.9.1)\n",
      "Requirement already satisfied: frozenlist>=1.1.1 in c:\\python311\\lib\\site-packages (from aiohttp<4.0.0,>=3.8.3->langchain) (1.3.3)\n",
      "Requirement already satisfied: aiosignal>=1.1.2 in c:\\python311\\lib\\site-packages (from aiohttp<4.0.0,>=3.8.3->langchain) (1.3.1)\n",
      "Requirement already satisfied: marshmallow<4.0.0,>=3.3.0 in c:\\users\\mec bonjourno\\appdata\\roaming\\python\\python311\\site-packages (from dataclasses-json<0.6.0,>=0.5.7->langchain) (3.19.0)\n",
      "Requirement already satisfied: marshmallow-enum<2.0.0,>=1.5.1 in c:\\users\\mec bonjourno\\appdata\\roaming\\python\\python311\\site-packages (from dataclasses-json<0.6.0,>=0.5.7->langchain) (1.5.1)\n",
      "Requirement already satisfied: typing-inspect>=0.4.0 in c:\\users\\mec bonjourno\\appdata\\roaming\\python\\python311\\site-packages (from dataclasses-json<0.6.0,>=0.5.7->langchain) (0.8.0)\n",
      "Requirement already satisfied: typing-extensions>=4.2.0 in c:\\python311\\lib\\site-packages (from pydantic<2,>=1->langchain) (4.5.0)\n",
      "Requirement already satisfied: idna<4,>=2.5 in c:\\python311\\lib\\site-packages (from requests<3,>=2->langchain) (3.4)\n",
      "Requirement already satisfied: urllib3<1.27,>=1.21.1 in c:\\python311\\lib\\site-packages (from requests<3,>=2->langchain) (1.26.15)\n",
      "Requirement already satisfied: certifi>=2017.4.17 in c:\\python311\\lib\\site-packages (from requests<3,>=2->langchain) (2022.12.7)\n",
      "Requirement already satisfied: greenlet!=0.4.17 in c:\\users\\mec bonjourno\\appdata\\roaming\\python\\python311\\site-packages (from SQLAlchemy<2,>=1->langchain) (2.0.2)\n",
      "Requirement already satisfied: packaging>=17.0 in c:\\users\\mec bonjourno\\appdata\\roaming\\python\\python311\\site-packages (from marshmallow<4.0.0,>=3.3.0->dataclasses-json<0.6.0,>=0.5.7->langchain) (23.1)\n",
      "Requirement already satisfied: mypy-extensions>=0.3.0 in c:\\users\\mec bonjourno\\appdata\\roaming\\python\\python311\\site-packages (from typing-inspect>=0.4.0->dataclasses-json<0.6.0,>=0.5.7->langchain) (1.0.0)\n",
      "Requirement already satisfied: openai in c:\\users\\mec bonjourno\\appdata\\roaming\\python\\python311\\site-packages (0.27.5)\n",
      "Requirement already satisfied: requests>=2.20 in c:\\python311\\lib\\site-packages (from openai) (2.28.2)\n",
      "Requirement already satisfied: tqdm in c:\\python311\\lib\\site-packages (from openai) (4.65.0)\n",
      "Requirement already satisfied: aiohttp in c:\\python311\\lib\\site-packages (from openai) (3.8.4)\n",
      "Requirement already satisfied: charset-normalizer<4,>=2 in c:\\python311\\lib\\site-packages (from requests>=2.20->openai) (3.1.0)\n",
      "Requirement already satisfied: idna<4,>=2.5 in c:\\python311\\lib\\site-packages (from requests>=2.20->openai) (3.4)\n",
      "Requirement already satisfied: urllib3<1.27,>=1.21.1 in c:\\python311\\lib\\site-packages (from requests>=2.20->openai) (1.26.15)\n",
      "Requirement already satisfied: certifi>=2017.4.17 in c:\\python311\\lib\\site-packages (from requests>=2.20->openai) (2022.12.7)\n",
      "Requirement already satisfied: attrs>=17.3.0 in c:\\python311\\lib\\site-packages (from aiohttp->openai) (23.1.0)\n",
      "Requirement already satisfied: multidict<7.0,>=4.5 in c:\\python311\\lib\\site-packages (from aiohttp->openai) (6.0.4)\n",
      "Requirement already satisfied: async-timeout<5.0,>=4.0.0a3 in c:\\python311\\lib\\site-packages (from aiohttp->openai) (4.0.2)\n",
      "Requirement already satisfied: yarl<2.0,>=1.0 in c:\\python311\\lib\\site-packages (from aiohttp->openai) (1.9.1)\n",
      "Requirement already satisfied: frozenlist>=1.1.1 in c:\\python311\\lib\\site-packages (from aiohttp->openai) (1.3.3)\n",
      "Requirement already satisfied: aiosignal>=1.1.2 in c:\\python311\\lib\\site-packages (from aiohttp->openai) (1.3.1)\n",
      "Requirement already satisfied: colorama in c:\\python311\\lib\\site-packages (from tqdm->openai) (0.4.6)\n",
      "Collecting PyPDF2\n",
      "  Downloading pypdf2-3.0.1-py3-none-any.whl (232 kB)\n",
      "                                              0.0/232.6 kB ? eta -:--:--\n",
      "     ------------------                     112.6/232.6 kB 3.3 MB/s eta 0:00:01\n",
      "     -------------------------------------- 232.6/232.6 kB 3.5 MB/s eta 0:00:00\n",
      "Installing collected packages: PyPDF2\n",
      "Successfully installed PyPDF2-3.0.1\n",
      "Collecting faiss-cpu\n",
      "  Downloading faiss_cpu-1.7.4-cp311-cp311-win_amd64.whl (10.8 MB)\n",
      "                                              0.0/10.8 MB ? eta -:--:--\n",
      "                                              0.1/10.8 MB 2.2 MB/s eta 0:00:05\n",
      "     -                                        0.3/10.8 MB 3.4 MB/s eta 0:00:04\n",
      "     ---                                      0.8/10.8 MB 5.9 MB/s eta 0:00:02\n",
      "     -----                                    1.4/10.8 MB 7.2 MB/s eta 0:00:02\n",
      "     -------                                  1.9/10.8 MB 8.1 MB/s eta 0:00:02\n",
      "     ---------                                2.5/10.8 MB 8.8 MB/s eta 0:00:01\n",
      "     -----------                              3.0/10.8 MB 9.2 MB/s eta 0:00:01\n",
      "     -------------                            3.6/10.8 MB 9.6 MB/s eta 0:00:01\n",
      "     ---------------                          4.1/10.8 MB 9.7 MB/s eta 0:00:01\n",
      "     -----------------                        4.7/10.8 MB 10.0 MB/s eta 0:00:01\n",
      "     -------------------                      5.2/10.8 MB 10.1 MB/s eta 0:00:01\n",
      "     ---------------------                    5.8/10.8 MB 10.3 MB/s eta 0:00:01\n",
      "     -----------------------                  6.3/10.8 MB 10.4 MB/s eta 0:00:01\n",
      "     -------------------------                6.9/10.8 MB 10.4 MB/s eta 0:00:01\n",
      "     ---------------------------              7.4/10.8 MB 10.6 MB/s eta 0:00:01\n",
      "     -----------------------------            8.0/10.8 MB 10.6 MB/s eta 0:00:01\n",
      "     -------------------------------          8.6/10.8 MB 10.7 MB/s eta 0:00:01\n",
      "     ---------------------------------        9.1/10.8 MB 10.7 MB/s eta 0:00:01\n",
      "     -----------------------------------      9.6/10.8 MB 10.8 MB/s eta 0:00:01\n",
      "     ------------------------------------    10.2/10.8 MB 10.8 MB/s eta 0:00:01\n",
      "     --------------------------------------  10.7/10.8 MB 11.7 MB/s eta 0:00:01\n",
      "     --------------------------------------  10.8/10.8 MB 11.7 MB/s eta 0:00:01\n",
      "     --------------------------------------- 10.8/10.8 MB 11.1 MB/s eta 0:00:00\n",
      "Installing collected packages: faiss-cpu\n",
      "Successfully installed faiss-cpu-1.7.4\n",
      "Collecting tiktoken\n",
      "  Downloading tiktoken-0.4.0-cp311-cp311-win_amd64.whl (635 kB)\n",
      "                                              0.0/635.3 kB ? eta -:--:--\n",
      "     -----                                   92.2/635.3 kB 2.6 MB/s eta 0:00:01\n",
      "     ----------------                       276.5/635.3 kB 3.4 MB/s eta 0:00:01\n",
      "     ------------------------------------   614.4/635.3 kB 4.8 MB/s eta 0:00:01\n",
      "     -------------------------------------- 635.3/635.3 kB 4.4 MB/s eta 0:00:00\n",
      "Requirement already satisfied: regex>=2022.1.18 in c:\\users\\mec bonjourno\\appdata\\roaming\\python\\python311\\site-packages (from tiktoken) (2023.5.5)\n",
      "Requirement already satisfied: requests>=2.26.0 in c:\\python311\\lib\\site-packages (from tiktoken) (2.28.2)\n",
      "Requirement already satisfied: charset-normalizer<4,>=2 in c:\\python311\\lib\\site-packages (from requests>=2.26.0->tiktoken) (3.1.0)\n",
      "Requirement already satisfied: idna<4,>=2.5 in c:\\python311\\lib\\site-packages (from requests>=2.26.0->tiktoken) (3.4)\n",
      "Requirement already satisfied: urllib3<1.27,>=1.21.1 in c:\\python311\\lib\\site-packages (from requests>=2.26.0->tiktoken) (1.26.15)\n",
      "Requirement already satisfied: certifi>=2017.4.17 in c:\\python311\\lib\\site-packages (from requests>=2.26.0->tiktoken) (2022.12.7)\n",
      "Installing collected packages: tiktoken\n",
      "Successfully installed tiktoken-0.4.0\n"
     ]
    }
   ],
   "source": [
    "!pip install langchain\n",
    "!pip install openai\n",
    "!pip install PyPDF2\n",
    "!pip install faiss-cpu\n",
    "!pip install tiktoken"
   ]
  },
  {
   "cell_type": "code",
   "execution_count": 6,
   "metadata": {},
   "outputs": [
    {
     "name": "stdout",
     "output_type": "stream",
     "text": [
      "Collecting pdfreader\n",
      "  Downloading pdfreader-0.1.12.tar.gz (2.9 MB)\n",
      "                                              0.0/2.9 MB ? eta -:--:--\n",
      "     -                                        0.1/2.9 MB 2.6 MB/s eta 0:00:02\n",
      "     ----                                     0.3/2.9 MB 3.5 MB/s eta 0:00:01\n",
      "     --------                                 0.6/2.9 MB 5.0 MB/s eta 0:00:01\n",
      "     ----------------                         1.2/2.9 MB 6.8 MB/s eta 0:00:01\n",
      "     ------------------------                 1.7/2.9 MB 7.8 MB/s eta 0:00:01\n",
      "     -------------------------------          2.3/2.9 MB 8.5 MB/s eta 0:00:01\n",
      "     ---------------------------------------  2.8/2.9 MB 9.0 MB/s eta 0:00:01\n",
      "     ---------------------------------------- 2.9/2.9 MB 8.7 MB/s eta 0:00:00\n",
      "  Installing build dependencies: started\n",
      "  Installing build dependencies: finished with status 'done'\n",
      "  Getting requirements to build wheel: started\n",
      "  Getting requirements to build wheel: finished with status 'done'\n",
      "  Preparing metadata (pyproject.toml): started\n",
      "  Preparing metadata (pyproject.toml): finished with status 'done'\n",
      "Collecting bitarray>=1.1.0 (from pdfreader)\n",
      "  Downloading bitarray-2.7.3-cp311-cp311-win_amd64.whl (118 kB)\n",
      "                                              0.0/118.2 kB ? eta -:--:--\n",
      "     -------------------------------------- 118.2/118.2 kB 7.2 MB/s eta 0:00:00\n",
      "Requirement already satisfied: pillow>=7.1.0 in c:\\users\\mec bonjourno\\appdata\\roaming\\python\\python311\\site-packages (from pdfreader) (9.5.0)\n",
      "Collecting pycryptodome>=3.9.9 (from pdfreader)\n",
      "  Downloading pycryptodome-3.18.0-cp35-abi3-win_amd64.whl (1.7 MB)\n",
      "                                              0.0/1.7 MB ? eta -:--:--\n",
      "     ------------                             0.5/1.7 MB 10.9 MB/s eta 0:00:01\n",
      "     ------------------------                 1.1/1.7 MB 11.2 MB/s eta 0:00:01\n",
      "     ------------------------------------     1.6/1.7 MB 11.1 MB/s eta 0:00:01\n",
      "     ---------------------------------------- 1.7/1.7 MB 11.1 MB/s eta 0:00:00\n",
      "Requirement already satisfied: python-dateutil>=2.8.1 in c:\\users\\mec bonjourno\\appdata\\roaming\\python\\python311\\site-packages (from pdfreader) (2.8.2)\n",
      "Requirement already satisfied: six>=1.5 in c:\\users\\mec bonjourno\\appdata\\roaming\\python\\python311\\site-packages (from python-dateutil>=2.8.1->pdfreader) (1.16.0)\n",
      "Building wheels for collected packages: pdfreader\n",
      "  Building wheel for pdfreader (pyproject.toml): started\n",
      "  Building wheel for pdfreader (pyproject.toml): finished with status 'done'\n",
      "  Created wheel for pdfreader: filename=pdfreader-0.1.12-py3-none-any.whl size=134571 sha256=df097188ca6defab213ae8e690a9ed93d33f7de8ab8cd8cb84fd248cdf334bd2\n",
      "  Stored in directory: c:\\users\\mec bonjourno\\appdata\\local\\pip\\cache\\wheels\\ae\\2a\\d7\\534c5ec691eece18000ef93a0daedf20821730e771cca259d5\n",
      "Successfully built pdfreader\n",
      "Installing collected packages: bitarray, pycryptodome, pdfreader\n",
      "Successfully installed bitarray-2.7.3 pdfreader-0.1.12 pycryptodome-3.18.0\n"
     ]
    }
   ],
   "source": [
    "!pip install pdfreader"
   ]
  },
  {
   "cell_type": "code",
   "execution_count": 2,
   "metadata": {},
   "outputs": [],
   "source": [
    "from PyPDF2 import PdfReader\n",
    "from langchain.embeddings.openai import OpenAIEmbeddings\n",
    "from langchain.text_splitter import CharacterTextSplitter\n",
    "from langchain.vectorstores import ElasticVectorSearch, Pinecone, Weaviate, FAISS"
   ]
  },
  {
   "cell_type": "code",
   "execution_count": 9,
   "metadata": {},
   "outputs": [
    {
     "ename": "TypeError",
     "evalue": "unhashable type: 'Page'",
     "output_type": "error",
     "traceback": [
      "\u001b[1;31m---------------------------------------------------------------------------\u001b[0m",
      "\u001b[1;31mTypeError\u001b[0m                                 Traceback (most recent call last)",
      "Cell \u001b[1;32mIn[9], line 12\u001b[0m\n\u001b[0;32m     10\u001b[0m \u001b[39mfor\u001b[39;00m i, page \u001b[39min\u001b[39;00m \u001b[39menumerate\u001b[39m(reader\u001b[39m.\u001b[39mpages()):\n\u001b[0;32m     11\u001b[0m     viewer \u001b[39m=\u001b[39m SimplePDFViewer(file)\n\u001b[1;32m---> 12\u001b[0m     viewer\u001b[39m.\u001b[39;49mnavigate(page)\n\u001b[0;32m     13\u001b[0m     viewer\u001b[39m.\u001b[39mrender()\n\u001b[0;32m     14\u001b[0m     text \u001b[39m=\u001b[39m \u001b[39m\"\u001b[39m\u001b[39m\"\u001b[39m\u001b[39m.\u001b[39mjoin(viewer\u001b[39m.\u001b[39mcanvas\u001b[39m.\u001b[39mstrings)\n",
      "File \u001b[1;32mc:\\Python311\\Lib\\site-packages\\pdfreader\\viewer\\pdfviewer.py:246\u001b[0m, in \u001b[0;36mPDFViewer.navigate\u001b[1;34m(self, n)\u001b[0m\n\u001b[0;32m    236\u001b[0m \u001b[39mdef\u001b[39;00m \u001b[39mnavigate\u001b[39m(\u001b[39mself\u001b[39m, n):\n\u001b[0;32m    237\u001b[0m \u001b[39m    \u001b[39m\u001b[39m\"\"\"\u001b[39;00m\n\u001b[0;32m    238\u001b[0m \u001b[39m    Navigates viewer to n-th page of the document.\u001b[39;00m\n\u001b[0;32m    239\u001b[0m \u001b[39m    Side-effects: clears canvas, resets page resources, resets graphics state\u001b[39;00m\n\u001b[1;32m   (...)\u001b[0m\n\u001b[0;32m    244\u001b[0m \n\u001b[0;32m    245\u001b[0m \u001b[39m    \"\"\"\u001b[39;00m\n\u001b[1;32m--> 246\u001b[0m     \u001b[39mif\u001b[39;00m n \u001b[39mnot\u001b[39;49;00m \u001b[39min\u001b[39;49;00m \u001b[39mself\u001b[39;49m\u001b[39m.\u001b[39;49m_pages:\n\u001b[0;32m    247\u001b[0m         \u001b[39mtry\u001b[39;00m:\n\u001b[0;32m    248\u001b[0m             \u001b[39mself\u001b[39m\u001b[39m.\u001b[39m_pages[n] \u001b[39m=\u001b[39m \u001b[39mnext\u001b[39m(islice(\u001b[39mself\u001b[39m\u001b[39m.\u001b[39mdoc\u001b[39m.\u001b[39mpages(), n \u001b[39m-\u001b[39m \u001b[39m1\u001b[39m, n))\n",
      "\u001b[1;31mTypeError\u001b[0m: unhashable type: 'Page'"
     ]
    }
   ],
   "source": [
    "import pandas as pd\n",
    "from pdfreader import PDFDocument, SimplePDFViewer\n",
    "# from text_splitter import CharacterTextSplitter\n",
    "\n",
    "with open('oCaminhoDosReis.pdf', 'rb') as file:\n",
    "    reader = PDFDocument(file)\n",
    "\n",
    "    raw_text = ''\n",
    "    page_texts = []\n",
    "    for i, page in enumerate(reader.pages()):\n",
    "        viewer = SimplePDFViewer(file)\n",
    "        viewer.navigate(page)\n",
    "        viewer.render()\n",
    "        text = \"\".join(viewer.canvas.strings)\n",
    "        if text:\n",
    "            raw_text += text\n",
    "            page_texts.append((i, text))\n",
    "\n",
    "    text_splitter = CharacterTextSplitter(        \n",
    "        separator = \"\\n\",\n",
    "        chunk_size = 1000,\n",
    "        chunk_overlap  = 200,\n",
    "        length_function = len,\n",
    "    )\n",
    "\n",
    "    df_rows = []\n",
    "    for page_num, text in page_texts:\n",
    "        texts = text_splitter.split_text(text)\n",
    "        for part_num, part in enumerate(texts):\n",
    "            df_rows.append({'page': page_num, 'part': part_num, 'text': part})\n",
    "\n",
    "    df = pd.DataFrame(df_rows)"
   ]
  },
  {
   "cell_type": "code",
   "execution_count": null,
   "metadata": {},
   "outputs": [],
   "source": [
    "df"
   ]
  },
  {
   "cell_type": "code",
   "execution_count": 10,
   "metadata": {},
   "outputs": [],
   "source": [
    "reader = PdfReader('oCaminhoDosReis.pdf')"
   ]
  },
  {
   "cell_type": "code",
   "execution_count": 11,
   "metadata": {},
   "outputs": [],
   "source": [
    "raw_text = ''\n",
    "for i, page in enumerate(reader.pages):\n",
    "    text = page.extract_text()\n",
    "    if text:\n",
    "        raw_text += text"
   ]
  },
  {
   "cell_type": "code",
   "execution_count": null,
   "metadata": {},
   "outputs": [],
   "source": [
    "print(raw_text)"
   ]
  },
  {
   "cell_type": "code",
   "execution_count": 14,
   "metadata": {},
   "outputs": [],
   "source": [
    "text_splitter = CharacterTextSplitter(        \n",
    "    separator = \"\\n\",\n",
    "    chunk_size = 1000,\n",
    "    chunk_overlap  = 200,\n",
    "    length_function = len,\n",
    ")\n",
    "texts = text_splitter.split_text(raw_text)"
   ]
  },
  {
   "cell_type": "code",
   "execution_count": 15,
   "metadata": {},
   "outputs": [
    {
     "data": {
      "text/plain": [
       "2999"
      ]
     },
     "execution_count": 15,
     "metadata": {},
     "output_type": "execute_result"
    }
   ],
   "source": [
    "len(texts)"
   ]
  },
  {
   "cell_type": "code",
   "execution_count": 18,
   "metadata": {},
   "outputs": [
    {
     "data": {
      "text/plain": [
       "'que motivava Adolin. Se conseg uisse derrotar os parshendianos, talvez seu\\npai voltasse a ser o homem que já fora. T alvez aqueles delírios espectrais\\nque o acossavam desaparecessem.\\nÀ fr ente, Dalinar conversava em  voz baixa com Sadeas. Ambos  tinham\\no cenho franzido. Eles mal se t oleravam, embora já tivessem sido amigos.\\nEra mais uma c oisa que mudara na noite da morte de Gavilar . O que teria\\nocorrido entre os dois?\\nO dia foi passando e eles final mente chegaram ao local da ca çada —\\ndois pla tôs adja centes. Um deles era para onde a criatura seria atraída; o\\noutro, a uma dis tância segura, para abrigar os espectadores. Como muitos\\nplatôs, aqueles tinham uma superfície acidentada, habitada por plantas\\nresistentes, adaptadas a uma exposição contínua às tormentas. Saliências\\nrochosas, depressões e chão irregular tornavam traiçoeiras as lutas naquele\\nterreno.\\nAdolin se juntou ao pai, que estava ao lado da última ponte, esperando'"
      ]
     },
     "execution_count": 18,
     "metadata": {},
     "output_type": "execute_result"
    }
   ],
   "source": [
    "texts[567]"
   ]
  },
  {
   "cell_type": "code",
   "execution_count": 19,
   "metadata": {},
   "outputs": [
    {
     "name": "stderr",
     "output_type": "stream",
     "text": [
      "c:\\Python311\\Lib\\site-packages\\tqdm\\auto.py:21: TqdmWarning: IProgress not found. Please update jupyter and ipywidgets. See https://ipywidgets.readthedocs.io/en/stable/user_install.html\n",
      "  from .autonotebook import tqdm as notebook_tqdm\n"
     ]
    }
   ],
   "source": [
    "from langchain.embeddings import HuggingFaceEmbeddings\n",
    "embeddings = HuggingFaceEmbeddings()"
   ]
  },
  {
   "cell_type": "code",
   "execution_count": null,
   "metadata": {},
   "outputs": [],
   "source": []
  },
  {
   "cell_type": "code",
   "execution_count": 21,
   "metadata": {},
   "outputs": [],
   "source": [
    "docsearch = FAISS.from_texts(texts, embeddings)"
   ]
  },
  {
   "cell_type": "code",
   "execution_count": 28,
   "metadata": {},
   "outputs": [
    {
     "name": "stdout",
     "output_type": "stream",
     "text": [
      "<langchain.vectorstores.faiss.FAISS object at 0x000001CBBACE9ED0>\n"
     ]
    }
   ],
   "source": [
    "print(docsearch)"
   ]
  },
  {
   "attachments": {},
   "cell_type": "markdown",
   "metadata": {},
   "source": [
    "# Remember to update and try on GPU"
   ]
  },
  {
   "cell_type": "code",
   "execution_count": 22,
   "metadata": {},
   "outputs": [],
   "source": [
    "from langchain.chains.question_answering import load_qa_chain\n",
    "from langchain.llms import OpenAI"
   ]
  },
  {
   "cell_type": "code",
   "execution_count": 24,
   "metadata": {},
   "outputs": [],
   "source": [
    "import os\n",
    "os.environ[\"OPENAI_API_KEY\"] = os.getenv('OPENAI_API_KEY') "
   ]
  },
  {
   "cell_type": "code",
   "execution_count": 23,
   "metadata": {},
   "outputs": [],
   "source": [
    "chain = load_qa_chain(OpenAI(), chain_type=\"stuff\")"
   ]
  },
  {
   "cell_type": "code",
   "execution_count": 27,
   "metadata": {},
   "outputs": [
    {
     "data": {
      "text/plain": [
       "' O deserto está vivo is a novel about a 14-year-old girl named Gloria Ramírez who escapes her attacker and finds refuge at the door of Mary Rose Whitehead, who is then forced to confront the cruelty and injustices that women in her city have faced for generations. The story is a mix of thriller, western, and mystery genres that explores themes of violence and sisterhood.'"
      ]
     },
     "execution_count": 27,
     "metadata": {},
     "output_type": "execute_result"
    }
   ],
   "source": [
    "query = \"What is this book about?\"\n",
    "docs = docsearch.similarity_search(query)\n",
    "chain.run(input_documents=docs, question=query)"
   ]
  },
  {
   "cell_type": "code",
   "execution_count": null,
   "metadata": {},
   "outputs": [],
   "source": []
  }
 ],
 "metadata": {
  "kernelspec": {
   "display_name": "Python 3",
   "language": "python",
   "name": "python3"
  },
  "language_info": {
   "codemirror_mode": {
    "name": "ipython",
    "version": 3
   },
   "file_extension": ".py",
   "mimetype": "text/x-python",
   "name": "python",
   "nbconvert_exporter": "python",
   "pygments_lexer": "ipython3",
   "version": "3.11.0"
  },
  "orig_nbformat": 4
 },
 "nbformat": 4,
 "nbformat_minor": 2
}
