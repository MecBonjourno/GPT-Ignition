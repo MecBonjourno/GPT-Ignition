{
 "cells": [
  {
   "cell_type": "code",
   "execution_count": 1,
   "metadata": {},
   "outputs": [],
   "source": [
    "import sounddevice as sd\n",
    "from scipy.io.wavfile import write\n",
    "from tkinter import Tk, Button, Label\n",
    "import threading\n",
    "\n",
    "class Recorder:\n",
    "    def __init__(self, fs=44100):\n",
    "        self.fs = fs\n",
    "        self.is_recording = False\n",
    "        self.frames = []\n",
    "\n",
    "    def start_recording(self):\n",
    "        self.is_recording = True\n",
    "        print(\"Recording started...\")\n",
    "        self.frames = []\n",
    "\n",
    "        def callback(indata, frames, time, status):\n",
    "            if self.is_recording:\n",
    "                self.frames.append(indata.copy())\n",
    "\n",
    "        self.stream = sd.InputStream(callback=callback, channels=1, samplerate=self.fs)\n",
    "        self.stream.start()\n",
    "\n",
    "    def stop_recording(self, filename):\n",
    "        if not self.is_recording:\n",
    "            return\n",
    "        \n",
    "        self.is_recording = False\n",
    "        print(\"Recording stopped.\")\n",
    "        self.stream.stop()\n",
    "        self.stream.close()\n",
    "        \n",
    "        recording = np.concatenate(self.frames)\n",
    "        write(filename, self.fs, recording)\n",
    "        print(f\"File saved as: {filename}\")\n",
    "\n",
    "def create_app():\n",
    "    recorder = Recorder()\n",
    "\n",
    "    def start():\n",
    "        threading.Thread(target=recorder.start_recording).start()\n",
    "\n",
    "    def stop():\n",
    "        filename = 'test.wav'\n",
    "        threading.Thread(target=recorder.stop_recording, args=(filename,)).start()\n",
    "\n",
    "    root = Tk()\n",
    "\n",
    "    Label(root, text=\"Audio Recorder\").pack()\n",
    "    Button(root, text=\"Start\", command=start).pack()\n",
    "    Button(root, text=\"Stop\", command=stop).pack()\n",
    "\n",
    "    root.mainloop()\n",
    "\n",
    "create_app()\n"
   ]
  }
 ],
 "metadata": {
  "kernelspec": {
   "display_name": ".venv",
   "language": "python",
   "name": "python3"
  },
  "language_info": {
   "codemirror_mode": {
    "name": "ipython",
    "version": 3
   },
   "file_extension": ".py",
   "mimetype": "text/x-python",
   "name": "python",
   "nbconvert_exporter": "python",
   "pygments_lexer": "ipython3",
   "version": "3.11.3"
  },
  "orig_nbformat": 4
 },
 "nbformat": 4,
 "nbformat_minor": 2
}
